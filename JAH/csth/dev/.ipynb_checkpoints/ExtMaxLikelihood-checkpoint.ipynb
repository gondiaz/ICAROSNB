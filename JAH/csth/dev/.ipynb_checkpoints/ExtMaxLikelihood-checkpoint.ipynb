{
 "cells": [
  {
   "cell_type": "markdown",
   "metadata": {},
   "source": [
    "# Maximum Extended Fit \n",
    "\n",
    "Example of a 1D-polynonmial and 1D-polynomial+gaus Maximum Likelihood fit and Extended Maximum Likelihood fit"
   ]
  },
  {
   "cell_type": "code",
   "execution_count": 1,
   "metadata": {},
   "outputs": [
    {
     "name": "stdout",
     "output_type": "stream",
     "text": [
      "Last updated on  Fri Nov 23 14:34:18 2018\n"
     ]
    }
   ],
   "source": [
    "import time\n",
    "print(\"Last updated on \", time.asctime())"
   ]
  },
  {
   "cell_type": "code",
   "execution_count": 2,
   "metadata": {},
   "outputs": [],
   "source": [
    "import numpy as np\n",
    "import scipy.stats       as stats\n",
    "import matplotlib.pyplot as plt\n",
    "import scipy.optimize    as optimize\n",
    "\n",
    "from scipy.stats    import rv_continuous\n",
    "from scipy.optimize import minimize"
   ]
  },
  {
   "cell_type": "code",
   "execution_count": 3,
   "metadata": {},
   "outputs": [],
   "source": [
    "%matplotlib inline\n",
    "%load_ext autoreload\n",
    "%autoreload 2"
   ]
  },
  {
   "cell_type": "markdown",
   "metadata": {},
   "source": [
    "# 1.  PDF and ML fit to a 1D-polynomial\n",
    "\n",
    "\n",
    "The 1D-polinomial pdf is defined in an interval $[a, b]$. Notice that the pdf pivotes in the center $c = (a+b)/2$ with a range in slope $[ -2/(b-a)^2, \\; 2/(b-a)^2]$\n",
    "\n",
    "We parameterize the 1D-polinomial pdf as: \n",
    "\n",
    "$f(x | m ) = m * (x - c) + b$,\n",
    "\n",
    "where $c = (a+b)/2$ and $b = 1/(b-a)$."
   ]
  },
  {
   "cell_type": "markdown",
   "metadata": {},
   "source": [
    "### define a pdf-class for 1D-polynomial"
   ]
  },
  {
   "cell_type": "code",
   "execution_count": 4,
   "metadata": {},
   "outputs": [],
   "source": [
    "class Pol1D(rv_continuous):\n",
    "    \n",
    "    def _pdf(self, x, mslope):\n",
    "        e0, e1 = self.a, self.b\n",
    "        ec, b  = (e0 +e1)/2., 1/(e1-e0)\n",
    "        return mslope*(x-ec) + b\n",
    "       \n",
    "    def _argcheck(self, mslope):\n",
    "        e0, e1 = self.a, self.b\n",
    "        de = e1 - e0\n",
    "        ok = (mslope >= -2./(de*de)) & (mslope <= 2./(de*de)) # allowed range of the slope \n",
    "        return ok"
   ]
  },
  {
   "cell_type": "code",
   "execution_count": 5,
   "metadata": {},
   "outputs": [
    {
     "name": "stdout",
     "output_type": "stream",
     "text": [
      "range e   :  -1.0 1.0\n",
      "slope     :  -0.25\n",
      "max slope :  0.5\n"
     ]
    }
   ],
   "source": [
    "e0, e1 = -1., 1.\n",
    "mslope = -0.25\n",
    "print('range e   : ', e0, e1)\n",
    "print('slope     : ', mslope)\n",
    "print('max slope : ', 2./((e1-e0)*(e1-e0)))"
   ]
  },
  {
   "cell_type": "markdown",
   "metadata": {},
   "source": [
    "### generate n-randon events "
   ]
  },
  {
   "cell_type": "code",
   "execution_count": 6,
   "metadata": {
    "scrolled": false
   },
   "outputs": [
    {
     "name": "stdout",
     "output_type": "stream",
     "text": [
      "computing random events ... 200\n"
     ]
    }
   ],
   "source": [
    "p1 = Pol1D(a = e0, b = e1, shapes = 'mslope')\n",
    "n = 200\n",
    "print('computing random events ...', n)\n",
    "xs = p1.rvs(size = n, mslope = mslope) "
   ]
  },
  {
   "cell_type": "code",
   "execution_count": 7,
   "metadata": {},
   "outputs": [
    {
     "data": {
      "image/png": "[encoded data removed]",
      "text/plain": [
       "<Figure size 432x288 with 1 Axes>"
      ]
     },
     "metadata": {
      "needs_background": "light"
     },
     "output_type": "display_data"
    }
   ],
   "source": [
    "plt.hist(xs, 100);"
   ]
  },
  {
   "cell_type": "markdown",
   "metadata": {},
   "source": [
    "### compute -2 log likelihood"
   ]
  },
  {
   "cell_type": "code",
   "execution_count": 8,
   "metadata": {},
   "outputs": [
    {
     "name": "stdout",
     "output_type": "stream",
     "text": [
      "-2 log like :  268.6347139233878\n"
     ]
    }
   ],
   "source": [
    "llval = -2.*np.sum(p1.logpdf(xs, mslope = mslope))\n",
    "print('-2 log like : ', llval)"
   ]
  },
  {
   "cell_type": "markdown",
   "metadata": {},
   "source": [
    "### Scan the -2 log likelihood in the parameter interval"
   ]
  },
  {
   "cell_type": "code",
   "execution_count": 9,
   "metadata": {},
   "outputs": [
    {
     "data": {
      "image/png": "[encoded data removed]",
      "text/plain": [
       "<Figure size 432x288 with 1 Axes>"
      ]
     },
     "metadata": {
      "needs_background": "light"
     },
     "output_type": "display_data"
    }
   ],
   "source": [
    "ms = np.linspace(-0.5, 0.5, 100)\n",
    "\n",
    "llfun = lambda mi : -2.*np.sum(p1.logpdf(xs, mslope = mi))\n",
    "\n",
    "lls = [llfun(mi) for mi in ms]\n",
    "\n",
    "plt.plot(ms, lls)\n",
    "plt.grid()\n",
    "plt.xlabel(' slope ')\n",
    "plt.ylabel(' -2 log like');"
   ]
  },
  {
   "cell_type": "markdown",
   "metadata": {},
   "source": [
    "### Maximum Likelihood fit"
   ]
  },
  {
   "cell_type": "code",
   "execution_count": 10,
   "metadata": {},
   "outputs": [],
   "source": [
    "def ll_fun(xs):\n",
    "    def llfit(mus):\n",
    "        mslope = mus[0]\n",
    "        return -2.*np.sum(p1.logpdf(xs, mslope = mslope))\n",
    "    return llfit"
   ]
  },
  {
   "cell_type": "code",
   "execution_count": 11,
   "metadata": {},
   "outputs": [
    {
     "name": "stdout",
     "output_type": "stream",
     "text": [
      " true parameters         :  -0.25\n",
      " initial guess parameters:  0.1\n",
      " estimated parameters    :  -0.18929687499999948\n"
     ]
    }
   ],
   "source": [
    "llfit  = ll_fun(xs) \n",
    "mus0   = np.array([0.1, ])   # initial guess\n",
    "res    = minimize(llfit, mus0, method='Nelder-Mead' )\n",
    "mushat = res.x\n",
    "print(' true parameters         : ', mslope)\n",
    "print(' initial guess parameters: ', *mus0)\n",
    "print(' estimated parameters    : ', *mushat)"
   ]
  },
  {
   "cell_type": "markdown",
   "metadata": {},
   "source": [
    "# 2. PDF and MLF to a 1D-polynomial + gaus\n",
    "\n",
    "The pdf is defined in a range $[a, b]$. The 1D-polynomial has only 1-degree of freedom (the slope) which is also constrained in a range. We consider that the gaus pdf is contained in the range $[a, b]$. And a fraction $f$ of the gaussian with respect the 1D-polynomial. \n",
    "\n",
    "The pdf is:\n",
    "\n",
    "$f(x | \\mu, \\sigma, m, f) = f * \\rm{gaus} \\,(x | \\mu, \\sigma) + (1-f) * \\rm{polynom1D}\\,(x | m)$"
   ]
  },
  {
   "cell_type": "markdown",
   "metadata": {},
   "source": [
    "### define a pdf-class for 1D-polynomial + gaus "
   ]
  },
  {
   "cell_type": "code",
   "execution_count": 12,
   "metadata": {},
   "outputs": [],
   "source": [
    "class Pol1DGaus(rv_continuous):        \n",
    "\n",
    "    def _pdf(self, x, mu, sigma, mslope, f):\n",
    "\n",
    "        pgaus = stats.norm.pdf(x, loc=mu, scale = sigma)\n",
    "\n",
    "        e0, e1 = self.a, self.b\n",
    "        ec, b = (e0 +e1)/2., 1/(e1-e0)\n",
    "        ppol1 =  mslope*(x-ec) + b\n",
    "        \n",
    "        ptot = f * pgaus + (1-f)*ppol1\n",
    "        return ptot\n",
    "\n",
    "    def _argcheck(self, mu, sigma, mslope, f):\n",
    "        e0, e1 = self.a, self.b\n",
    "        de = e1 - e0\n",
    "        ok = (mslope >= -2./(de*de)) & (mslope <= 2./(de*de)) # limits in the slope\n",
    "        ok = ok & (mu > e0) & (mu < e1)& (sigma > 0) & (sigma < (e1-e0)/3.) # limits in the gausian\n",
    "        ok = ok & (f >= 0) & (f <=1.) # limits in the fraction\n",
    "        return ok"
   ]
  },
  {
   "cell_type": "code",
   "execution_count": 13,
   "metadata": {},
   "outputs": [
    {
     "name": "stdout",
     "output_type": "stream",
     "text": [
      "range e   :  -10.0 10.0\n",
      "slope     :  -0.002\n",
      "max slope :  0.005\n",
      "gaussian mu, sigma  :  0.0 1.0\n",
      "gaussian fraction   :  0.2\n"
     ]
    }
   ],
   "source": [
    "#e0, e1               = -10., 10.\n",
    "#mu, sigma, mslope, f =   0.,  1., -0.002, 0.2\n",
    "\n",
    "e0, e1               = 360e3, 440e3\n",
    "mu, sigma, mslope, f = 400e3,   4., -0.002, 0.2\n",
    "\n",
    "\n",
    "\n",
    "print('range e   : ', e0, e1)\n",
    "print('slope     : ', mslope)\n",
    "print('max slope : ', 2./((e1-e0)*(e1-e0)))\n",
    "print('gaussian mu, sigma  : ', mu, sigma)\n",
    "print('gaussian fraction   : ', f)"
   ]
  },
  {
   "cell_type": "markdown",
   "metadata": {},
   "source": [
    "### generate n-randon events "
   ]
  },
  {
   "cell_type": "code",
   "execution_count": 14,
   "metadata": {
    "scrolled": false
   },
   "outputs": [
    {
     "name": "stdout",
     "output_type": "stream",
     "text": [
      "computing random events (it is slow...) 600\n"
     ]
    }
   ],
   "source": [
    "pg = Pol1DGaus(a = e0, b = e1, shapes = 'mu, sigma, mslope, f')\n",
    "n = 600\n",
    "print('computing random events (it is slow...)', n)\n",
    "xs = pg.rvs(size = n, mu = mu, sigma = sigma, mslope = mslope, f = f) "
   ]
  },
  {
   "cell_type": "code",
   "execution_count": 15,
   "metadata": {},
   "outputs": [
    {
     "data": {
      "image/png": "[encoded data removed]",
      "text/plain": [
       "<Figure size 432x288 with 1 Axes>"
      ]
     },
     "metadata": {
      "needs_background": "light"
     },
     "output_type": "display_data"
    }
   ],
   "source": [
    "plt.hist(xs, 100);"
   ]
  },
  {
   "cell_type": "markdown",
   "metadata": {},
   "source": [
    "### compute -2 log likelihood"
   ]
  },
  {
   "cell_type": "code",
   "execution_count": 16,
   "metadata": {},
   "outputs": [
    {
     "name": "stdout",
     "output_type": "stream",
     "text": [
      "-2 log like :  3478.7260917984204\n"
     ]
    }
   ],
   "source": [
    "llval = -2.*np.sum(pg.logpdf(xs, mu = mu, sigma = sigma, mslope = mslope, f = f))\n",
    "print('-2 log like : ', llval)"
   ]
  },
  {
   "cell_type": "markdown",
   "metadata": {},
   "source": [
    "### Scan the -2 log likelihood in the parameter interval"
   ]
  },
  {
   "cell_type": "code",
   "execution_count": 17,
   "metadata": {},
   "outputs": [
    {
     "data": {
      "image/png": "[encoded data removed]",
      "text/plain": [
       "<Figure size 432x288 with 1 Axes>"
      ]
     },
     "metadata": {
      "needs_background": "light"
     },
     "output_type": "display_data"
    }
   ],
   "source": [
    "ms = np.linspace(-0.005, 0.005, 100)\n",
    "\n",
    "llfun = lambda mi : -2.*np.sum(pg.logpdf(xs, mu= mu, sigma = sigma, mslope = mi, f = f))\n",
    "\n",
    "lls = [llfun(mi) for mi in ms]\n",
    "\n",
    "plt.plot(ms, lls)\n",
    "plt.grid()\n",
    "plt.xlabel(' slope ')\n",
    "plt.ylabel(' -2 log like');"
   ]
  },
  {
   "cell_type": "markdown",
   "metadata": {},
   "source": [
    "### Maximum Likelihood fit"
   ]
  },
  {
   "cell_type": "code",
   "execution_count": 18,
   "metadata": {},
   "outputs": [],
   "source": [
    "def ll_fun(xs):\n",
    "    def llfit(mus):\n",
    "        mu, sigma, mslope, f = mus[0], mus[1], mus[2], mus[3]\n",
    "        return -2.*np.sum(pg.logpdf(xs, mu = mu, sigma = sigma, mslope = mslope, f = f))\n",
    "    return llfit"
   ]
  },
  {
   "cell_type": "code",
   "execution_count": 19,
   "metadata": {},
   "outputs": [
    {
     "name": "stdout",
     "output_type": "stream",
     "text": [
      " true parameters         :  0.0 1.0 -0.002 0.2\n",
      " initial guess parameters:  1.0 1.0 0.0 0.5\n",
      " estimated parameters    :  -0.09164410169616771 0.8315830437175573 -0.0015075242037624352 0.1968308799029915\n"
     ]
    }
   ],
   "source": [
    "llfit  = ll_fun(xs) \n",
    "mus0   = np.array([1., 1., 0., 0.5])   # initial guess\n",
    "res    = minimize(llfit, mus0, method='Nelder-Mead' )\n",
    "mushat = res.x\n",
    "print(' true parameters         : ', mu, sigma, mslope, f)\n",
    "print(' initial guess parameters: ', *mus0)\n",
    "print(' estimated parameters    : ', *mushat)"
   ]
  },
  {
   "cell_type": "markdown",
   "metadata": {},
   "source": [
    "# 3. Extended Maximun Likelihood fit to a 1D-Polynomial + gaus\n",
    "\n",
    "We consider a gaus pdf and a 1D-Polynomial pdf, instead of f as the fraction of events, we consider a poisson distribution of the total number of events with a mean: $\\nu_g + \\nu_p$, where $\\nu_g$ is the expected number of gaussian events and $\\nu_p$ the expected number of the 1D-polynomial.\n",
    "\n",
    "The pdf is:\n",
    "\n",
    "$f(n, {\\bf x} | \\mu, \\sigma, m, \\nu_g, \\nu_p) = \\rm{poisson}(n | \\nu_g + \\nu_p) \\, \\left(\\frac{\\nu_g}{\\nu_g + \\nu_p} \\, \\rm{gaus}({\\bf x} | \\mu, \\sigma) + \\frac{\\nu_p}{\\nu_g+\\nu_p} \\, \\rm{poly1D}({\\bf x} | m) \\right)$"
   ]
  },
  {
   "cell_type": "code",
   "execution_count": 20,
   "metadata": {},
   "outputs": [
    {
     "name": "stdout",
     "output_type": "stream",
     "text": [
      "range e   :  -10.0 10.0\n",
      "slope     :  -0.002\n",
      "max slope :  0.005\n",
      "gaussian mu, sigma   :  0.0 1.0\n",
      "expected gauss, polynomial events:  100 400\n",
      "gaussian fraction   :  0.2\n"
     ]
    }
   ],
   "source": [
    "e0, e1             = -10., 10.\n",
    "mu, sigma, mslope  =   0.,  1., -0.002\n",
    "nug, nup           =  100, 400\n",
    "f = 1.*nug/(nug+nup)\n",
    "\n",
    "print('range e   : ', e0, e1)\n",
    "print('slope     : ', mslope)\n",
    "print('max slope : ', 2./((e1-e0)*(e1-e0)))\n",
    "print('gaussian mu, sigma   : ', mu, sigma)\n",
    "print('expected gauss, polynomial events: ', nug, nup)\n",
    "print('gaussian fraction   : ', f)"
   ]
  },
  {
   "cell_type": "markdown",
   "metadata": {},
   "source": [
    "### generate random-events with the extended pdf"
   ]
  },
  {
   "cell_type": "code",
   "execution_count": 21,
   "metadata": {},
   "outputs": [],
   "source": [
    "pg = Pol1DGaus(a = e0, b = e1, shapes = 'mu, sigma, mslope, f')\n",
    "\n",
    "def pg_experiment(mu, sigma, mslope, nug, nup):\n",
    "    n0 = stats.poisson.rvs(size = 1, mu = nug + nup)\n",
    "    print('number of events : ', *n0)\n",
    "    f = nug/(nug + nup)\n",
    "    xs = pg.rvs(size = n0, mu = mu, sigma = sigma, mslope = mslope, f = f)\n",
    "    return xs"
   ]
  },
  {
   "cell_type": "code",
   "execution_count": 22,
   "metadata": {},
   "outputs": [
    {
     "name": "stdout",
     "output_type": "stream",
     "text": [
      "generating experiment (it can be slow...)\n",
      "number of events :  500\n"
     ]
    }
   ],
   "source": [
    "print('generating experiment (it can be slow...)')\n",
    "xs = pg_experiment(mu, sigma, mslope, nug, nup)"
   ]
  },
  {
   "cell_type": "code",
   "execution_count": 23,
   "metadata": {},
   "outputs": [
    {
     "data": {
      "image/png": "[encoded data removed]",
      "text/plain": [
       "<Figure size 432x288 with 1 Axes>"
      ]
     },
     "metadata": {
      "needs_background": "light"
     },
     "output_type": "display_data"
    }
   ],
   "source": [
    "plt.hist(xs, 100);"
   ]
  },
  {
   "cell_type": "markdown",
   "metadata": {},
   "source": [
    "### Compute Extened -2 Log likelihood"
   ]
  },
  {
   "cell_type": "code",
   "execution_count": 24,
   "metadata": {},
   "outputs": [],
   "source": [
    "def llext_fun(xs):\n",
    "    def llfit(mus): \n",
    "        mu, sigma, mslope, nug, nup = mus[0], mus[1], mus[2], mus[3], mus[4]\n",
    "        n = len(xs)\n",
    "        llog1 = -2.*np.sum(np.log(stats.poisson.pmf(n, mu = nug + nup)))\n",
    "        f = float(nug)/float(nug + nup)\n",
    "        llog2 = -2.*np.sum(pg.logpdf(xs, mu = mu , sigma = sigma, mslope = mslope, f = f))\n",
    "        return llog1 + llog2\n",
    "    return llfit"
   ]
  },
  {
   "cell_type": "code",
   "execution_count": 25,
   "metadata": {},
   "outputs": [
    {
     "name": "stdout",
     "output_type": "stream",
     "text": [
      "Extended -2 log like  2908.1039824416175\n"
     ]
    }
   ],
   "source": [
    "mustrue = np.array([mu, sigma, mslope, nug, nup])\n",
    "llfit   = llext_fun(xs)\n",
    "print('Extended -2 log like ', llfit(mustrue))"
   ]
  },
  {
   "cell_type": "markdown",
   "metadata": {},
   "source": [
    "### Extended Maximum Likelihood Fit"
   ]
  },
  {
   "cell_type": "code",
   "execution_count": 26,
   "metadata": {},
   "outputs": [
    {
     "name": "stdout",
     "output_type": "stream",
     "text": [
      " true parameters         :  0.0 1.0 -0.002 100.0 400.0\n",
      " initial guess parameters:  1.0 2.0 0.0 50.0 600.0\n",
      " estimated parameters    :  0.3026638653659829 0.8052017486377725 -0.0020105689248557743 94.33226577258368 405.6676989070449\n"
     ]
    }
   ],
   "source": [
    "mus0 = np.array([1., 2., 0., 50, 600])\n",
    "res  = minimize(llfit, mus0, method='Nelder-Mead' )\n",
    "mushat = res.x\n",
    "print(' true parameters         : ', *mustrue)\n",
    "print(' initial guess parameters: ', *mus0)\n",
    "print(' estimated parameters    : ', *mushat)"
   ]
  },
  {
   "cell_type": "code",
   "execution_count": 27,
   "metadata": {},
   "outputs": [
    {
     "name": "stdout",
     "output_type": "stream",
     "text": [
      "Done!\n"
     ]
    }
   ],
   "source": [
    "print('Done!')"
   ]
  },
  {
   "cell_type": "code",
   "execution_count": null,
   "metadata": {},
   "outputs": [],
   "source": []
  }
 ],
 "metadata": {
  "kernelspec": {
   "display_name": "Python 3",
   "language": "python",
   "name": "python3"
  },
  "language_info": {
   "codemirror_mode": {
    "name": "ipython",
    "version": 3
   },
   "file_extension": ".py",
   "mimetype": "text/x-python",
   "name": "python",
   "nbconvert_exporter": "python",
   "pygments_lexer": "ipython3",
   "version": "3.6.6"
  }
 },
 "nbformat": 4,
 "nbformat_minor": 2
}
