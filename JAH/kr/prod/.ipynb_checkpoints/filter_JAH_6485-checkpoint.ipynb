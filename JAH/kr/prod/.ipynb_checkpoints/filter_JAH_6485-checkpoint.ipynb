{
 "cells": [
  {
   "cell_type": "markdown",
   "metadata": {},
   "source": [
    "# Filter a Kr kDST to validate the selection\n",
    "### JAH 03/08/18"
   ]
  },
  {
   "cell_type": "markdown",
   "metadata": {},
   "source": [
    "<i>\n",
    "This notebook takes a kDST, applies a selection to identify the Kr candidates, monitor the variables.\n",
    "It can store the filter dst.\n",
    "</i>\n",
    "\n",
    "<i>\n",
    "In presence of external gamma sources, the XR production\n",
    "is very significative and constitutes a source of\n",
    "background for Kr data. This NB filters the data to\n",
    "produce a rather pure dataset on which to perform\n",
    "the regular analysis.\n",
    "</i>"
   ]
  },
  {
   "cell_type": "code",
   "execution_count": 11,
   "metadata": {},
   "outputs": [
    {
     "name": "stdout",
     "output_type": "stream",
     "text": [
      "Last updated on  Fri Nov 23 13:18:49 2018\n"
     ]
    }
   ],
   "source": [
    "import time\n",
    "print(\"Last updated on \", time.asctime())"
   ]
  },
  {
   "cell_type": "code",
   "execution_count": 12,
   "metadata": {},
   "outputs": [
    {
     "name": "stdout",
     "output_type": "stream",
     "text": [
      "The autoreload extension is already loaded. To reload it, use:\n",
      "  %reload_ext autoreload\n"
     ]
    }
   ],
   "source": [
    "%matplotlib inline\n",
    "%load_ext autoreload\n",
    "%autoreload 2"
   ]
  },
  {
   "cell_type": "markdown",
   "metadata": {},
   "source": [
    "### Notebook configuration"
   ]
  },
  {
   "cell_type": "code",
   "execution_count": 13,
   "metadata": {},
   "outputs": [],
   "source": [
    "run_number            = 6485\n",
    "#kdst_6482_v0.9.9_20181011_krbg.h5\n",
    "path                  = f\"$IC_DATA/{run_number}\"\n",
    "tag                   = 'v0.9.9_20181011_krth'\n",
    "#subrun                = 0\n",
    "#file_range            = file_range  = (10000*subrun, 10000*(subrun+1))\n",
    "input_dst_filenames   = [f\"$IC_DATA/{run_number}/kdsts/kdst_{run_number}_{tag}.h5\"]\n",
    "output_dst_filename   = f\"$IC_DATA/{run_number}/kdsts/kdst_{run_number}_filtered.h5\"\n",
    "\n",
    "# bootstrap corrections\n",
    "run_number_correction = 6206\n",
    "bootstrap_correction_filename   = f\"$IC_DATA/maps/kr_corrections_run{run_number_correction}.h5\"\n",
    "write_filtered_dst    = True\n",
    "apply_geocorrection   = True\n",
    "selection_1s2         = True"
   ]
  },
  {
   "cell_type": "code",
   "execution_count": 14,
   "metadata": {},
   "outputs": [],
   "source": [
    "S2range = (2e3  , 20e3)  # this is a selection\n",
    "nsigma  = 3.5            # sigma for the E vs Z band selection"
   ]
  },
  {
   "cell_type": "markdown",
   "metadata": {},
   "source": [
    "### Imports"
   ]
  },
  {
   "cell_type": "code",
   "execution_count": 15,
   "metadata": {},
   "outputs": [],
   "source": [
    "import os\n",
    "import time\n",
    "import glob\n",
    "import datetime          \n",
    "\n",
    "import tables            as tb\n",
    "import numpy             as np\n",
    "import matplotlib.pyplot as plt\n",
    "\n",
    "import invisible_cities.reco.dst_functions as dstf\n",
    "from invisible_cities.core .core_functions import in_range\n",
    "\n",
    "import krcal.dev.corrections       as corrections \n",
    "import krcal.dev.akr_functions     as akr\n",
    "\n",
    "import krcal.utils.hst_extend_functions as hst\n",
    "import krcal.utils.plt_functions        as pkr\n",
    "import krcal.utils.kdst_functions       as kdstf"
   ]
  },
  {
   "cell_type": "markdown",
   "metadata": {},
   "source": [
    "### Initailization"
   ]
  },
  {
   "cell_type": "code",
   "execution_count": 16,
   "metadata": {},
   "outputs": [],
   "source": [
    "# Plotting style\n",
    "default_cmap = \"jet\"\n",
    "figure_size  = 10, 8\n",
    "font_size    = 14\n",
    "\n",
    "plt.rcParams[\"figure.figsize\"] =   figure_size\n",
    "plt.rcParams[  \"font.size\"   ] =   font_size"
   ]
  },
  {
   "cell_type": "code",
   "execution_count": 17,
   "metadata": {},
   "outputs": [
    {
     "name": "stdout",
     "output_type": "stream",
     "text": [
      "This notebook has been run on  Fri Nov 23 13:18:49 2018\n"
     ]
    }
   ],
   "source": [
    "print(\"This notebook has been run on \", time.asctime())"
   ]
  },
  {
   "cell_type": "markdown",
   "metadata": {},
   "source": [
    "### input files"
   ]
  },
  {
   "cell_type": "code",
   "execution_count": 18,
   "metadata": {},
   "outputs": [
    {
     "name": "stdout",
     "output_type": "stream",
     "text": [
      "['$IC_DATA/6485/kdsts/kdst_6485_v0.9.9_20181011_krth.h5']\n"
     ]
    }
   ],
   "source": [
    "print(input_dst_filenames)"
   ]
  },
  {
   "cell_type": "code",
   "execution_count": 19,
   "metadata": {},
   "outputs": [],
   "source": [
    "input_dst_filenames            = [os.path.expandvars(fi) for fi in input_dst_filenames]\n",
    "bootstrap_correction_filename  = os.path.expandvars(bootstrap_correction_filename)"
   ]
  },
  {
   "cell_type": "markdown",
   "metadata": {},
   "source": [
    "### read the dsts"
   ]
  },
  {
   "cell_type": "code",
   "execution_count": null,
   "metadata": {},
   "outputs": [],
   "source": [
    "dst = kdstf.load_dsts(input_dst_filenames, \"DST\", \"Events\")"
   ]
  },
  {
   "cell_type": "markdown",
   "metadata": {},
   "source": [
    "### Read data"
   ]
  },
  {
   "cell_type": "code",
   "execution_count": null,
   "metadata": {},
   "outputs": [],
   "source": [
    "sel_1S1 = dst.nS1 == 1\n",
    "kdstf.selection_info(sel_1S1, 'one S1')\n",
    "dst = dst[sel_1S1]\n",
    "\n",
    "sel_1S2 = dst.nS2 == 1\n",
    "kdstf.selection_info(sel_1S2, 'one S2')\n",
    "dst = dst[sel_1S2]\n",
    "\n",
    "\n",
    "number_of_S2s_full, number_of_evts_full = kdstf.kdst_unique_events(dst)\n",
    "\n",
    "print(f\"Total number of S2s   : {number_of_S2s_full} \")\n",
    "print(f\"Total number of events: {number_of_evts_full}\")\n",
    "\n",
    "dst.head()"
   ]
  },
  {
   "cell_type": "markdown",
   "metadata": {},
   "source": [
    "### Apply bootstrap corrections"
   ]
  },
  {
   "cell_type": "code",
   "execution_count": null,
   "metadata": {},
   "outputs": [],
   "source": [
    "if \"index\" in dst: del dst[\"index\"]"
   ]
  },
  {
   "cell_type": "code",
   "execution_count": null,
   "metadata": {},
   "outputs": [],
   "source": [
    "X   = dst.X   .values\n",
    "Y   = dst.Y   .values\n",
    "Z   = dst.Z   .values\n",
    "T   = dst.time.values\n",
    "S2e = dst.S2e .values\n",
    "S2q = dst.S2q .values\n",
    "S1e = dst.S1e .values\n",
    "TD  = np.array([datetime.datetime.fromtimestamp(itime) for itime in T])\n",
    "TH = (T - T.min())/3600. # time in hours"
   ]
  },
  {
   "cell_type": "code",
   "execution_count": null,
   "metadata": {},
   "outputs": [],
   "source": [
    "E = S2e\n",
    "Q = S2q\n",
    "\n",
    "if (apply_geocorrection):\n",
    "    bootstrap_correction_filename = os.path.expandvars(bootstrap_correction_filename)\n",
    "    calibrate = corrections.Calibration(bootstrap_correction_filename)\n",
    "    E, Q = calibrate(X, Y, None, T, S2e, S2q)"
   ]
  },
  {
   "cell_type": "markdown",
   "metadata": {},
   "source": [
    "### Preselection"
   ]
  },
  {
   "cell_type": "code",
   "execution_count": null,
   "metadata": {},
   "outputs": [],
   "source": [
    "sel_nsipm = dst.Nsipm > 1\n",
    "kdstf.selection_info(sel_nsipm, '#Sipm >1 ' )\n",
    "sel_S2e   = in_range(S2e,  *S2range)\n",
    "kdstf.selection_info(sel_S2e, 'S2e range ' )\n",
    "\n",
    "sel = sel_nsipm & sel_S2e \n",
    "kdstf.selection_info(sel)"
   ]
  },
  {
   "cell_type": "code",
   "execution_count": null,
   "metadata": {},
   "outputs": [],
   "source": [
    "Znbins, Zrange = 100, (0., 550.)\n",
    "Zfitrange      = (50., 500.)\n",
    "Erange         = (4e3, 16e3)"
   ]
  },
  {
   "cell_type": "code",
   "execution_count": null,
   "metadata": {
    "scrolled": false
   },
   "outputs": [],
   "source": [
    "# selection in plot\n",
    "sel_EvsZ = akr.selection_in_band(E, Z, Erange, Zrange, Zfitrange, nsigma = nsigma, plot=True);\n",
    "kdstf.selection_info(sel_EvsZ, 'in E vs Z band ')\n",
    "sel = sel & sel_EvsZ\n",
    "kdstf.selection_info(sel, 'total selection')"
   ]
  },
  {
   "cell_type": "markdown",
   "metadata": {},
   "source": [
    "## Distributions"
   ]
  },
  {
   "cell_type": "markdown",
   "metadata": {},
   "source": [
    "### Kr preselection - Time evolution"
   ]
  },
  {
   "cell_type": "code",
   "execution_count": null,
   "metadata": {},
   "outputs": [],
   "source": [
    "Ta   = hst.Vaxis( (TH.min(), TH.max()), 100)\n",
    "Ea   = hst.Vaxis( (4e3    , 16e3)   , 100)\n",
    "S1a  = hst.Vaxis( (0.     , 30 )    , 100)\n",
    "Qa   = hst.Vaxis( (0.     , 1e3)    , 100)"
   ]
  },
  {
   "cell_type": "code",
   "execution_count": null,
   "metadata": {
    "scrolled": false
   },
   "outputs": [],
   "source": [
    "c = hst.Canvas(2, 2)\n",
    "hst.hist(TH     , Ta.bins, alpha=0.5, canvas = c(1), xylabels = ('Time (h)', 'events'));\n",
    "hst.hist(TH[sel], Ta.bins, alpha=0.5, canvas = c(1), xylabels = ('Time (h)', 'events'));\n",
    "#pkr.plt_xdates()\n",
    "\n",
    "hst.hist2d  (TH[sel], E[sel]  , (Ta.bins, Ea.bins) , canvas = c(2), xylabels = ('Time (h)', 'E (pes)'));\n",
    "hst.hist2d  (TH[sel], E[sel]  , (Ta.bins, Ea.bins) , canvas = c(2), xylabels = ('Time (h)', 'E (pes)'));\n",
    "hst.hist2d  (TH[sel], S1e[sel], (Ta.bins, S1a.bins), canvas = c(3), xylabels = ('Time (h)', 'S1(pes)'));\n",
    "hst.hist2d  (TH[sel], Q[sel]  , (Ta.bins, Qa.bins) , canvas = c(4), xylabels = ('Time (h)', 'Q (pes)'));\n",
    "\n",
    "hst.hprofile(TH[sel], E[sel]  , (Ta.bins, Ea.bins) , canvas = c(2), fmt = '.', color = 'black');\n",
    "hst.hprofile(TH[sel], E[sel]  , (Ta.bins, Ea.bins) , canvas = c(2), fmt = '.', color = 'black');\n",
    "hst.hprofile(TH[sel], S1e[sel], (Ta.bins, S1a.bins), canvas = c(3), fmt = '.', color = 'black');\n",
    "hst.hprofile(TH[sel], Q[sel]  , (Ta.bins, Qa.bins) , canvas = c(4), fmt = '.', color = 'black');\n",
    "\n",
    "plt.tight_layout();"
   ]
  },
  {
   "cell_type": "markdown",
   "metadata": {},
   "source": [
    "### S2, S1 "
   ]
  },
  {
   "cell_type": "code",
   "execution_count": null,
   "metadata": {},
   "outputs": [],
   "source": [
    "FEa  = hst.Vaxis( (0., 800e3), 200)\n",
    "FQa  = hst.Vaxis( (0., 100e3), 200)\n",
    "FS1a = hst.Vaxis( (0., 300.) , 200)"
   ]
  },
  {
   "cell_type": "code",
   "execution_count": null,
   "metadata": {
    "scrolled": false
   },
   "outputs": [],
   "source": [
    "c = hst.Canvas(4, 2)\n",
    "\n",
    "hst.hist(E       , FEa.bins , canvas = c(1), title = 'E full range', ylog = True)\n",
    "hst.hist(E[sel]  , Ea.bins  , canvas = c(2), title = 'E');\n",
    "hst.hist(Q       , FQa.bins , canvas = c(3), title = 'Q full range', ylog = True)\n",
    "hst.hist(Q[sel]  , Qa.bins  , canvas = c(4), title = 'Q');\n",
    "hst.hist(S1e     , FS1a.bins, canvas = c(5), title = 'S1 full range', ylog=True)\n",
    "hst.hist(S1e[sel], S1a.bins , canvas = c(6), title = 'S1');\n",
    "\n",
    "hst.hist2d  (S1e[sel], E[sel], (S1a.bins, Ea.bins), canvas=c(7), xylabels=('S1', 'E', 'Kr seleccion'))\n",
    "hst.hist2d  (Q[sel]  , E[sel], (Qa.bins , Ea.bins), canvas=c(8), xylabels=('Q' , 'E', 'Kr seleccion'))\n",
    "#hst.hprofile(S1e[sel], E[sel], (S1a.bins, Ea.bins), canvas=c(7), fmt='.', color='black')\n",
    "#hst.hprofile(Q[sel]  , E[sel], (Qa.bins , Ea.bins), canvas=c(8), fmt='.', color='black')\n",
    "\n",
    "plt.tight_layout()"
   ]
  },
  {
   "cell_type": "markdown",
   "metadata": {},
   "source": [
    "### X, Y, Z "
   ]
  },
  {
   "cell_type": "code",
   "execution_count": null,
   "metadata": {},
   "outputs": [],
   "source": [
    "XYa = hst.Vaxis((-200., 200,), 100)\n",
    "Za  = hst.Vaxis((  0.,  550.), 100)"
   ]
  },
  {
   "cell_type": "code",
   "execution_count": null,
   "metadata": {},
   "outputs": [],
   "source": [
    "c = hst.Canvas(4, 2)\n",
    "hst.hist2d  (X     , Y     , (XYa.bins, XYa.bins), canvas = c(1), xylabels = ('X', 'Y', 'full'));\n",
    "hst.hist2d  (X[sel], Y[sel], (XYa.bins, XYa.bins), canvas = c(2), xylabels = ('X', 'Y', 'sel'));\n",
    "hst.hprofile(X     , Y     , (XYa.bins, XYa.bins), canvas = c(1), fmt='.', c = 'black');\n",
    "hst.hprofile(X[sel], Y[sel], (XYa.bins, XYa.bins), canvas = c(2), fmt='.', c = 'black');\n",
    "\n",
    "hst.hist2d  (Z     , Y     , (Za.bins , XYa.bins), canvas = c(3), xylabels = ('Z', 'Y', 'full'));\n",
    "hst.hist2d  (Z[sel], Y[sel], (Za.bins , XYa.bins), canvas = c(4), xylabels = ('Z', 'Y', 'sel'));\n",
    "hst.hprofile(Z     , Y     , (Za.bins , XYa.bins), canvas = c(3), fmt = '.', c = 'black');\n",
    "hst.hprofile(Z[sel], Y[sel], (Za.bins , XYa.bins), canvas = c(4), fmt = '.', c = 'black');\n",
    "\n",
    "hst.hist2d  (X     , Z     , (XYa.bins, Za.bins) , canvas = c(5), xylabels = ('X', 'Z', 'full'));\n",
    "hst.hist2d  (X[sel], Z[sel], (XYa.bins, Za.bins) , canvas = c(6), xylabels = ('X', 'Z', 'sell'));\n",
    "hst.hprofile(X     , Z     , (XYa.bins, Za.bins) , canvas = c(5), fmt = '.', c = 'black');\n",
    "hst.hprofile(X[sel], Z[sel], (XYa.bins, Za.bins) , canvas = c(6), fmt = '.', c = 'black');\n",
    "\n",
    "plt.tight_layout()"
   ]
  },
  {
   "cell_type": "code",
   "execution_count": null,
   "metadata": {},
   "outputs": [],
   "source": [
    "Ra   = hst.Vaxis( (0.    , 200. ), 100)\n",
    "Phia = hst.Vaxis( (-np.pi, np.pi), 100)"
   ]
  },
  {
   "cell_type": "code",
   "execution_count": null,
   "metadata": {
    "scrolled": false
   },
   "outputs": [],
   "source": [
    "c = hst.Canvas(3, 2)\n",
    "hst.hist(dst.X  , XYa.bins , alpha=0.5, canvas = c(1), title = 'X'  , label='full')\n",
    "hst.hist(dst.Y  , XYa.bins , alpha=0.5, canvas = c(2), title = 'Y'  , label='full')\n",
    "hst.hist(dst.Z  , Za.bins  , alpha=0.5, canvas = c(3), title = 'Z'  , label='full')\n",
    "hst.hist(dst.R  , Ra.bins  , alpha=0.5, canvas = c(4), title = 'R'  , label='full')\n",
    "hst.hist(dst.Phi, Phia.bins, alpha=0.5, canvas = c(5), title = 'Phi', label='full');\n",
    "\n",
    "hst.hist(dst.X[sel]  , XYa.bins , alpha=0.5, canvas = c(1), title = 'X'  , label='sel')\n",
    "hst.hist(dst.Y[sel]  , XYa.bins , alpha=0.5, canvas = c(2), title = 'Y'  , label='sel')\n",
    "hst.hist(dst.Z[sel]  , Za.bins  , alpha=0.5, canvas = c(3), title = 'Z'  , label='sel')\n",
    "hst.hist(dst.R[sel]  , Ra.bins  , alpha=0.5, canvas = c(4), title = 'R'  , label='sel')\n",
    "hst.hist(dst.Phi[sel], Phia.bins, alpha=0.5, canvas = c(5), title = 'Phi', label='sel');\n",
    "plt.legend()\n",
    "plt.tight_layout();"
   ]
  },
  {
   "cell_type": "markdown",
   "metadata": {},
   "source": [
    "### Charge and SiPM distributions"
   ]
  },
  {
   "cell_type": "code",
   "execution_count": null,
   "metadata": {},
   "outputs": [],
   "source": [
    "c = hst.Canvas(1, 2)\n",
    "hst.hist(dst.Nsipm      , 100,  (0, 50) , alpha=0.5, canvas = c(1), title = 'Nsipm', label='full')\n",
    "hst.hist(dst.Nsipm[sel] , 100,  (0, 50) , alpha=0.5, canvas = c(1), title = 'Nsipm', label='sel')\n",
    "hst.hist(dst.Zrms       , 100,  (0, 8.), alpha=0.5, canvas = c(2), title = 'Zrms' , label='sel');\n",
    "hst.hist(dst.Zrms[sel]  , 100,  (0, 8.), alpha=0.5, canvas = c(2), title = 'Zrms' , label='sel');\n",
    "plt.legend()\n",
    "plt.tight_layout();"
   ]
  },
  {
   "cell_type": "markdown",
   "metadata": {},
   "source": [
    "### Comparison between raw and Kr selection"
   ]
  },
  {
   "cell_type": "code",
   "execution_count": null,
   "metadata": {},
   "outputs": [],
   "source": [
    "pkr.dst_compare_vars(dst, dst[sel])"
   ]
  },
  {
   "cell_type": "code",
   "execution_count": null,
   "metadata": {},
   "outputs": [],
   "source": [
    "if (write_filtered_dst):\n",
    "    output_dst_filename = os.path.expandvars(output_dst_filename)\n",
    "    print('writing filtered dst ', output_dst_filename)\n",
    "    kdstf.kdst_write(dst[sel], output_dst_filename);"
   ]
  },
  {
   "cell_type": "code",
   "execution_count": null,
   "metadata": {},
   "outputs": [],
   "source": [
    "print('Done!')"
   ]
  },
  {
   "cell_type": "code",
   "execution_count": null,
   "metadata": {},
   "outputs": [],
   "source": []
  }
 ],
 "metadata": {
  "kernelspec": {
   "display_name": "Python 3",
   "language": "python",
   "name": "python3"
  },
  "language_info": {
   "codemirror_mode": {
    "name": "ipython",
    "version": 3
   },
   "file_extension": ".py",
   "mimetype": "text/x-python",
   "name": "python",
   "nbconvert_exporter": "python",
   "pygments_lexer": "ipython3",
   "version": "3.6.6"
  }
 },
 "nbformat": 4,
 "nbformat_minor": 2
}
