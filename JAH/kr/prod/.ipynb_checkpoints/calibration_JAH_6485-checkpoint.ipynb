{
 "cells": [
  {
   "cell_type": "markdown",
   "metadata": {},
   "source": [
    "# lifetime time calibration - store maps\n",
    "\n",
    "### JAH  03/08/18"
   ]
  },
  {
   "cell_type": "markdown",
   "metadata": {},
   "source": [
    "<i>\n",
    "This notebook compues the lifetime map (scale and lifetime) and stores it in a file.\n",
    "</i>"
   ]
  },
  {
   "cell_type": "code",
   "execution_count": 1,
   "metadata": {},
   "outputs": [
    {
     "name": "stdout",
     "output_type": "stream",
     "text": [
      "Last updated on  Fri Nov 23 13:21:46 2018\n"
     ]
    }
   ],
   "source": [
    "import time\n",
    "print(\"Last updated on \", time.asctime())"
   ]
  },
  {
   "cell_type": "code",
   "execution_count": 2,
   "metadata": {},
   "outputs": [],
   "source": [
    "%matplotlib inline\n",
    "%load_ext autoreload\n",
    "%autoreload 2"
   ]
  },
  {
   "cell_type": "markdown",
   "metadata": {},
   "source": [
    "### Notebook configuration"
   ]
  },
  {
   "cell_type": "code",
   "execution_count": 3,
   "metadata": {
    "scrolled": true
   },
   "outputs": [],
   "source": [
    "run_number                 = 6485\n",
    "input_dst_filenames        = [f\"$IC_DATA/{run_number}/kdsts/kdst_{run_number}_filtered.h5\"]\n",
    "#                              f\"$IC_DATA/dsts/kdst_{run_number}_1_filtered.h5\",\n",
    "#                              f\"$IC_DATA/dsts/kdst_{run_number}_2_filtered.h5\",\n",
    "#                              f\"$IC_DATA/dsts/kdst_{run_number}_3_filtered.h5\"\n",
    "#                             ]\n",
    "correction_filename         = f\"$IC_DATA/maps/kr_corrections_run{run_number}.h5\"\n",
    "\n",
    "Rrange  =    0., 200.\n",
    "Zrange  =    0., 550.\n",
    "XYrange = -200., 200.\n",
    "E0range = 6.5e3, 13.5e3\n",
    "LTrange = 1.5e3,  5.0e3\n",
    "Chrange =     0, 20.\n",
    "\n",
    "XYnbins      =  100\n"
   ]
  },
  {
   "cell_type": "markdown",
   "metadata": {},
   "source": [
    "### Imports"
   ]
  },
  {
   "cell_type": "code",
   "execution_count": 4,
   "metadata": {
    "scrolled": true
   },
   "outputs": [],
   "source": [
    "import os\n",
    "import time\n",
    "import datetime\n",
    "\n",
    "import tables            as tb\n",
    "import numpy             as np\n",
    "import matplotlib.pyplot as plt\n",
    "import matplotlib.dates  as md\n",
    "\n",
    "import invisible_cities.core.fit_functions as fitf\n",
    "\n",
    "from invisible_cities.core .core_functions import in_range\n",
    "\n",
    "from krcal.dev.table_info import RunInfo\n",
    "from krcal.dev.table_info import MapInfo\n",
    "\n",
    "import krcal.utils.hst_extend_functions as hst\n",
    "import krcal.utils.plt_functions        as apt\n",
    "import krcal.utils.kdst_functions       as kdstf\n",
    "import krcal.dev.akr_functions          as akr\n",
    "import krcal.dev.corrections            as corrections"
   ]
  },
  {
   "cell_type": "code",
   "execution_count": 5,
   "metadata": {},
   "outputs": [],
   "source": [
    "# Plotting style\n",
    "default_cmap = \"jet\"\n",
    "figure_size  = 10, 8\n",
    "font_size    = 14\n",
    "\n",
    "plt.rcParams[\"figure.figsize\"] =   figure_size\n",
    "plt.rcParams[  \"font.size\"   ] =   font_size"
   ]
  },
  {
   "cell_type": "markdown",
   "metadata": {},
   "source": [
    "### Initialization"
   ]
  },
  {
   "cell_type": "code",
   "execution_count": 6,
   "metadata": {
    "scrolled": true
   },
   "outputs": [
    {
     "name": "stdout",
     "output_type": "stream",
     "text": [
      "['/Users/hernando/investigacion/NEXT/data/runIV//6485/kdsts/kdst_6485_filtered.h5']\n"
     ]
    }
   ],
   "source": [
    "input_dst_filenames           = [os.path.expandvars(fi) for fi in input_dst_filenames]\n",
    "print(input_dst_filenames)\n",
    "correction_filename           = os.path.expandvars(correction_filename)"
   ]
  },
  {
   "cell_type": "code",
   "execution_count": 7,
   "metadata": {},
   "outputs": [],
   "source": [
    "dst = kdstf.load_dsts(input_dst_filenames, \"DST\", \"Events\")"
   ]
  },
  {
   "cell_type": "markdown",
   "metadata": {},
   "source": [
    "## Read data"
   ]
  },
  {
   "cell_type": "code",
   "execution_count": 8,
   "metadata": {
    "scrolled": true
   },
   "outputs": [
    {
     "name": "stdout",
     "output_type": "stream",
     "text": [
      "Total number of S2s   : 1132694 \n",
      "Total number of events: 1132694\n"
     ]
    }
   ],
   "source": [
    "unique_events = ~dst.event.duplicated()\n",
    "\n",
    "number_of_S2s_full  = np.size         (unique_events)\n",
    "number_of_evts_full = np.count_nonzero(unique_events)\n",
    "\n",
    "print(f\"Total number of S2s   : {number_of_S2s_full} \")\n",
    "print(f\"Total number of events: {number_of_evts_full}\")"
   ]
  },
  {
   "cell_type": "markdown",
   "metadata": {},
   "source": [
    "## Relevant data and corrections"
   ]
  },
  {
   "cell_type": "code",
   "execution_count": 9,
   "metadata": {
    "scrolled": true
   },
   "outputs": [],
   "source": [
    "X   = dst.X   .values\n",
    "Y   = dst.Y   .values\n",
    "Z   = dst.Z   .values\n",
    "R   = dst.R   .values\n",
    "Phi = dst.Phi .values\n",
    "S2e = dst.S2e .values\n",
    "S2q = dst.S2q .values\n",
    "T   = dst.time.values\n",
    "TH  = (T - T.min())/3600. # time in hours"
   ]
  },
  {
   "cell_type": "markdown",
   "metadata": {},
   "source": [
    "## Selection"
   ]
  },
  {
   "cell_type": "code",
   "execution_count": 10,
   "metadata": {},
   "outputs": [],
   "source": [
    "sel_r = in_range(R, *Rrange)\n",
    "sel_z = in_range(Z, *Zrange)\n",
    "sel   = sel_r & sel_z"
   ]
  },
  {
   "cell_type": "code",
   "execution_count": 11,
   "metadata": {},
   "outputs": [],
   "source": [
    "Znbins = 50\n",
    "Enbins, Erange = 50, (6e3, 14e3)"
   ]
  },
  {
   "cell_type": "markdown",
   "metadata": {},
   "source": [
    "## Study map "
   ]
  },
  {
   "cell_type": "code",
   "execution_count": 12,
   "metadata": {},
   "outputs": [],
   "source": [
    "XYa = hst.Vaxis( XYrange, nbins = XYnbins)"
   ]
  },
  {
   "cell_type": "code",
   "execution_count": 13,
   "metadata": {},
   "outputs": [
    {
     "name": "stderr",
     "output_type": "stream",
     "text": [
      "/Users/hernando/miniconda/envs/IC-3.6-2018-08-29/lib/python3.6/site-packages/matplotlib/cbook/deprecation.py:107: MatplotlibDeprecationWarning: Adding an axes using the same arguments as a previous axes currently reuses the earlier instance.  In a future version, a new instance will always be created and returned.  Meanwhile, this warning can be suppressed, and the future behavior ensured, by passing a unique label to each axes instance.\n",
      "  warnings.warn(message, mplDeprecation, stacklevel=1)\n"
     ]
    },
    {
     "data": {
      "image/png": "[encoded data removed]",
      "text/plain": [
       "<Figure size 892.8x388.8 with 3 Axes>"
      ]
     },
     "metadata": {
      "needs_background": "light"
     },
     "output_type": "display_data"
    }
   ],
   "source": [
    "c = hst.Canvas(1, 2)\n",
    "nevt, *_ = hst.hist2d(X[sel], Y[sel], (XYa.bins, XYa.bins), canvas=c(2), \n",
    "                      xylabels = ('x (mm)', 'y (mm)', 'entries'))\n",
    "plt.colorbar()\n",
    "oks = nevt > 0\n",
    "hst.hist(nevt[oks].flatten(), 100, canvas = c(1), xylabels = ('entries per bin', ''));\n",
    "plt.tight_layout()"
   ]
  },
  {
   "cell_type": "code",
   "execution_count": null,
   "metadata": {},
   "outputs": [],
   "source": [
    "xye0, xylt, xychi2, xyok = akr.ltmap_lsqfit(X[sel], Y[sel], Z[sel], S2e[sel], XYa.bins)"
   ]
  },
  {
   "cell_type": "code",
   "execution_count": null,
   "metadata": {},
   "outputs": [],
   "source": [
    "apt.plt_xymap(XYa.centers, XYa.centers, xye0.value, xyok, XYa.nbins, E0range, 'E0 (pes)');\n",
    "apt.plt_xymap(XYa.centers, XYa.centers, xylt.value, xyok, XYa.nbins, LTrange, 'LT ($\\mu$s)');"
   ]
  },
  {
   "cell_type": "code",
   "execution_count": null,
   "metadata": {},
   "outputs": [],
   "source": [
    "E0urange = (10., 80.)\n",
    "LTurange = (10., 300.)\n",
    "apt.plt_xymap(XYa.centers, XYa.centers, xye0.uncertainty, xyok, XYa.nbins, E0urange, 'E0 u (pes)');\n",
    "apt.plt_xymap(XYa.centers, XYa.centers, xylt.uncertainty, xyok, XYa.nbins, LTurange, 'LT u ($\\mu$s)');"
   ]
  },
  {
   "cell_type": "code",
   "execution_count": null,
   "metadata": {},
   "outputs": [],
   "source": [
    "#apt.plt_xymap(XYa.centers, XYa.centers, xychi2    , xyok, Chnbins, Chrange, '$\\chi^2$/ndf')\n",
    "E0urange = (0., 100.)\n",
    "LTurange = (0., 100.)\n",
    "apt.plt_xymap(XYa.centers, XYa.centers, xychi2, xyok, XYa.nbins, (0., 30.), 'chi2');\n",
    "apt.plt_xymap(XYa.centers, XYa.centers, xyok, xyok, XYa.nbins, (0., 1.), 'ok');"
   ]
  },
  {
   "cell_type": "code",
   "execution_count": null,
   "metadata": {},
   "outputs": [],
   "source": [
    "xyq0, xyqlt, xyqchi2, xyqok = akr.ltmap_lsqfit(X[sel], Y[sel], Z[sel], S2q[sel], XYa.bins)"
   ]
  },
  {
   "cell_type": "code",
   "execution_count": null,
   "metadata": {},
   "outputs": [],
   "source": [
    "QE0range = (0.4e3, 0.75e3)\n",
    "QLTrange = (1.0e3, 4e3)\n",
    "apt.plt_xymap(XYa.centers, XYa.centers, xyq0.value, xyqok, XYa.nbins, QE0range, 'Q0 (pes)');\n",
    "apt.plt_xymap(XYa.centers, XYa.centers, xyqlt.value, xyqok, XYa.nbins, QLTrange, 'QLT ($\\mu$s)');"
   ]
  },
  {
   "cell_type": "code",
   "execution_count": null,
   "metadata": {},
   "outputs": [],
   "source": [
    "apt.plt_xymap(XYa.centers, XYa.centers, xychi2    , xyok, XYa.nbins, Chrange, '$\\chi^2$/ndf')\n",
    "QE0urange = (12., 80.)\n",
    "QLTurange = (20., 300.)\n",
    "apt.plt_xymap(XYa.centers, XYa.centers, xye0.uncertainty , xyqok, XYa.nbins, QE0urange, 'QE0 u (pes)');\n",
    "apt.plt_xymap(XYa.centers, XYa.centers, xyqlt.uncertainty, xyqok, XYa.nbins, QLTurange, 'QLT u ($\\mu$s)');"
   ]
  },
  {
   "cell_type": "code",
   "execution_count": null,
   "metadata": {},
   "outputs": [],
   "source": [
    "#apt.plt_xymap(XYa.centers, XYa.centers, xychi2    , xyok, Chnbins, Chrange, '$\\chi^2$/ndf')\n",
    "apt.plt_xymap(XYa.centers, XYa.centers, xyqchi2, xyqok, XYa.nbins, (0., 100.), 'chi2');\n",
    "apt.plt_xymap(XYa.centers, XYa.centers, xyqok  , xyqok, XYa.nbins, (0., 1.), 'ok');"
   ]
  },
  {
   "cell_type": "code",
   "execution_count": null,
   "metadata": {},
   "outputs": [],
   "source": [
    "Trange = (T.min(), T.max()) \n",
    "corrections.write_lifetime_correction(correction_filename, run_number, Trange, XYa.bins, \n",
    "                                      xye0, xylt, xyok, xyq0, xyqlt, xyqok, nevt)\n",
    "corrections.write_geometry_correction(correction_filename, run_number, Trange, XYa.bins, \n",
    "                                      xye0, xyok, xyq0, xyqok, nevt)"
   ]
  },
  {
   "cell_type": "code",
   "execution_count": null,
   "metadata": {},
   "outputs": [],
   "source": [
    "print('Done!')"
   ]
  },
  {
   "cell_type": "code",
   "execution_count": null,
   "metadata": {},
   "outputs": [],
   "source": []
  }
 ],
 "metadata": {
  "kernelspec": {
   "display_name": "Python 3",
   "language": "python",
   "name": "python3"
  },
  "language_info": {
   "codemirror_mode": {
    "name": "ipython",
    "version": 3
   },
   "file_extension": ".py",
   "mimetype": "text/x-python",
   "name": "python",
   "nbconvert_exporter": "python",
   "pygments_lexer": "ipython3",
   "version": "3.6.6"
  }
 },
 "nbformat": 4,
 "nbformat_minor": 2
}
