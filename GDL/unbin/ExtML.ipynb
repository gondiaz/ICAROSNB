{
 "cells": [
  {
   "cell_type": "code",
   "execution_count": 1,
   "metadata": {},
   "outputs": [],
   "source": [
    "import numpy                as np\n",
    "import pandas               as pd\n",
    "import matplotlib.pyplot    as plt\n",
    "\n",
    "from scipy          import stats\n",
    "\n",
    "from scipy                   import optimize\n",
    "from scipy.integrate         import quad\n",
    "from scipy.optimize          import minimize\n",
    "from scipy.optimize          import BFGS\n",
    "from scipy.optimize          import Bounds\n",
    "from scipy.optimize          import NonlinearConstraint"
   ]
  },
  {
   "cell_type": "markdown",
   "metadata": {},
   "source": [
    "$$p_b(E|s)=s(E-c) + r$$\n",
    "\n",
    "$$c = (a + b)/2 $$\n",
    "\n",
    "$$r = 1/(b-a) $$\n",
    "\n",
    "$$p_s(E|\\mu, \\sigma) = \\frac{1}{\\sqrt{2\\pi}\\sigma}e^{-(E-\\mu)^2/(2\\sigma^2)} $$\n",
    "\n",
    "\n",
    "$$p(E|\\mu_s, \\mu_b, s, \\mu, \\sigma) = \\frac{(\\mu_s+\\mu_b)^n}{n!} e^{-(\\mu_s+\\mu_b)} \\left( \\frac{\\mu_s}{\\mu_s+\\mu_b}p_s(E|\\mu, \\sigma) +  \\frac{\\mu_b}{\\mu_s+\\mu_b}p_b(E|s) \\right) $$"
   ]
  },
  {
   "cell_type": "markdown",
   "metadata": {},
   "source": [
    "## RANDOM DATA GENERATION"
   ]
  },
  {
   "cell_type": "markdown",
   "metadata": {},
   "source": [
    "### LINEAR"
   ]
  },
  {
   "cell_type": "code",
   "execution_count": 2,
   "metadata": {},
   "outputs": [],
   "source": [
    "# linear \n",
    "class linear(stats._distn_infrastructure.rv_continuous):\n",
    "    \n",
    "    def _rvs(self, s):\n",
    "        a, b = self.a  , self.b\n",
    "        c, r = (a+b)/2., 1/(b-a)\n",
    "\n",
    "        F = np.random.random(self._size)\n",
    "        \n",
    "        if   -(r-s*c)/s>a : e = -(r-s*c)/s - (((r-s*c)/s)**2 + 2*(F + a*(r-s*c + a*s/2))/s)**0.5\n",
    "        elif -(r-s*c)/s<b : e = -(r-s*c)/s + (((r-s*c)/s)**2 + 2*(F + a*(r-s*c + a*s/2))/s)**0.5\n",
    "        elif s==0: e = a + F/r\n",
    "        \n",
    "        return e\n",
    "    \n",
    "    def _pdf(self, e, s):\n",
    "        a, b = self.a  , self.b\n",
    "        c, r = (a+b)/2., 1/(b-a)\n",
    "        return s*(e-c) + r\n",
    "    \n",
    "    def _argcheck(self, s):\n",
    "        a, b = self.a  , self.b\n",
    "        \n",
    "        slim = 2/(b-a)**2\n",
    "        \n",
    "        ok = -slim<= s <= slim\n",
    "        \n",
    "        return ok"
   ]
  },
  {
   "cell_type": "code",
   "execution_count": 3,
   "metadata": {},
   "outputs": [],
   "source": [
    "a, b = -1, 1\n",
    "slim = 2/(b-a)**2\n",
    "\n",
    "s = -0.3\n",
    "\n",
    "\n",
    "lrv    = linear(a=a, b=b);\n",
    "lrvval = lrv.rvs(s=s, size=1000);"
   ]
  },
  {
   "cell_type": "code",
   "execution_count": 4,
   "metadata": {},
   "outputs": [
    {
     "data": {
      "image/png": "[encoded data removed]",
      "text/plain": [
       "<Figure size 432x288 with 1 Axes>"
      ]
     },
     "metadata": {
      "needs_background": "light"
     },
     "output_type": "display_data"
    }
   ],
   "source": [
    "es = np.linspace(a, b, 1000)\n",
    "\n",
    "plt.hist(lrvval, 100, density=True);\n",
    "plt.plot(es, lrv.pdf(es, s=s), c='r');"
   ]
  },
  {
   "cell_type": "markdown",
   "metadata": {},
   "source": [
    "### GAUSSIAN"
   ]
  },
  {
   "cell_type": "code",
   "execution_count": 5,
   "metadata": {},
   "outputs": [],
   "source": [
    "#gauss\n",
    "mu, sig = 0, 0.1\n",
    "\n",
    "grv    = stats.norm(loc=mu, scale=sig);\n",
    "grvval = grv.rvs(size=1000);"
   ]
  },
  {
   "cell_type": "code",
   "execution_count": 6,
   "metadata": {},
   "outputs": [
    {
     "data": {
      "image/png": "[encoded data removed]",
      "text/plain": [
       "<Figure size 432x288 with 1 Axes>"
      ]
     },
     "metadata": {
      "needs_background": "light"
     },
     "output_type": "display_data"
    }
   ],
   "source": [
    "es = np.linspace(a, b, 1000)\n",
    "\n",
    "plt.hist(grvval, 100, density=True);\n",
    "plt.plot(es, grv.pdf(es), c='r');"
   ]
  },
  {
   "cell_type": "code",
   "execution_count": 7,
   "metadata": {},
   "outputs": [
    {
     "data": {
      "text/plain": [
       "(-0.002047195620769798, 0.10229348889434893)"
      ]
     },
     "execution_count": 7,
     "metadata": {},
     "output_type": "execute_result"
    }
   ],
   "source": [
    "stats.norm.fit(grvval)"
   ]
  },
  {
   "cell_type": "markdown",
   "metadata": {},
   "source": [
    "### LINEAR + GAUSSIAN "
   ]
  },
  {
   "cell_type": "code",
   "execution_count": 8,
   "metadata": {},
   "outputs": [],
   "source": [
    "class photopeak(stats.rv_continuous):\n",
    "    \n",
    "    def _rvs(self, mus, mub, mu, sig, s):\n",
    "        a, b = self.a, self.b\n",
    "        \n",
    "        lrv    = linear(a=a, b=b).rvs(s=s, size=int(mub))\n",
    "        grv    = stats.norm(loc=mu, scale=sig).rvs(size=int(mus))\n",
    "        \n",
    "        return np.array([*grv, *lrv])\n",
    "    \n",
    "    def _pdf(self, e, mus, mub, mu, sig, s):\n",
    "        a, b = self.a, self.b\n",
    "        \n",
    "        p = (mub/(mus+mub)*linear(a=a, b=b).pdf(e, s=s[0]) + mus/(mus+mub)*stats.norm(loc=mu[0], scale=sig[0]).pdf(e))\n",
    "        \n",
    "        return p\n",
    "    \n",
    "    def _argcheck(self, mus, mub, mu, sig, s):\n",
    "        \n",
    "        okg = (sig>=0)\n",
    "        okl = linear(a=self.a, b=self.b)._argcheck(s=s)\n",
    "        okm = (mus>0)&(mub>0)\n",
    "        \n",
    "        return okg & okl & okm"
   ]
  },
  {
   "cell_type": "code",
   "execution_count": 9,
   "metadata": {},
   "outputs": [],
   "source": [
    "a, b = 380e3, 430e3\n",
    "slim = 2/(b-a)**2\n",
    "\n",
    "mus, mub, s, mu, sig = 1e3, 1e3, slim/10., 400e3, 3e3\n",
    "\n",
    "lgrv = photopeak(a=a, b=b)\n",
    "lgrvval = lgrv.rvs(mus=mus, mub=mub, mu=mu, sig=sig, s=s, size=mus+mub)"
   ]
  },
  {
   "cell_type": "code",
   "execution_count": 10,
   "metadata": {},
   "outputs": [
    {
     "data": {
      "image/png": "[encoded data removed]",
      "text/plain": [
       "<Figure size 432x288 with 1 Axes>"
      ]
     },
     "metadata": {
      "needs_background": "light"
     },
     "output_type": "display_data"
    }
   ],
   "source": [
    "es = np.linspace(a, b, 1000)\n",
    "\n",
    "plt.hist(lgrvval, 100, density=True);\n",
    "plt.plot(es, lgrv.pdf(es, mus=mus, mub=mub, mu=mu, sig=sig, s=s), c='r');"
   ]
  },
  {
   "cell_type": "markdown",
   "metadata": {},
   "source": [
    "## Covariance matrix estimate\n",
    "\n",
    "$$ \\hat{ (V^{-1})_{ij} } = - \\frac{\\partial^2 \\log L(\\theta)}{\\partial \\theta_i \\partial \\theta_j} |_{\\theta = \\hat{\\theta}}  $$"
   ]
  },
  {
   "cell_type": "code",
   "execution_count": 11,
   "metadata": {},
   "outputs": [],
   "source": [
    "def ll_func(data, lims):\n",
    "    E = data\n",
    "    n = len(E)\n",
    "    \n",
    "    a, b = lims\n",
    "    c, r = (a+b)/2., 1/(b-a)\n",
    "    slim = 2./(b-a)**2.\n",
    "    \n",
    "    def ll(x):\n",
    "        p = stats.poisson.pmf(mu=x[0]+x[1], k=n)*pdf(x)\n",
    "        constraints = np.array([(p<0).any(), x[0]<0, x[1]<0, x[2]<-slim, x[2]>slim])\n",
    "        \n",
    "        if constraints.any():\n",
    "            return np.inf\n",
    "        else:\n",
    "            return -np.log(p).sum()\n",
    "    \n",
    "    \n",
    "    def cov(x):\n",
    "        mus, mub = x[0], x[1]\n",
    "        f = mus/(mus+mub)\n",
    "        \n",
    "        p = pdf(x)\n",
    "        \n",
    "        mud, sigd = jac_s(x)\n",
    "        sb        = jac_b(x)\n",
    "\n",
    "        musp   =  mub/(mus+mub)**2*(fs(x)-fb(x))/p\n",
    "        mubp   = -mus/(mus+mub)**2*(fs(x)-fb(x))/p\n",
    "        sp   = (1-f)*sb   /p\n",
    "        mup  =  f    *mud /p\n",
    "        sigp =  f    *sigd/p\n",
    "        \n",
    "        \n",
    "        A = np.array([[(musp*musp).sum(), (musp*mubp).sum(), (musp*sp).sum(), (musp*mup).sum(), (musp*sigp).sum()],\n",
    "                      [(mubp*musp).sum(), (mubp*mubp).sum(), (mubp*sp).sum(), (mubp*mup).sum(), (mubp*sigp).sum()],\n",
    "                      [  (sp*musp).sum(),   (sp*mubp).sum(),   (sp*sp).sum(),   (sp*mup).sum(),   (sp*sigp).sum()],\n",
    "                      [ (mup*musp).sum(),  (mup*mubp).sum(),  (mup*sp).sum(),  (mup*mup).sum(),  (mup*sigp).sum()],\n",
    "                      [(sigp*musp).sum(), (sigp*mubp).sum(), (sigp*sp).sum(), (sigp*mup).sum(), (sigp*sigp).sum()]])\n",
    "        \n",
    "        b = -n/(mus+mub)**2\n",
    "        B = np.array([[b, b, 0, 0, 0],\n",
    "                      [b, b, 0, 0, 0],\n",
    "                      [0, 0, 0, 0, 0],\n",
    "                      [0, 0, 0, 0, 0],\n",
    "                      [0, 0, 0, 0, 0]])\n",
    "        \n",
    "        C = der2(x)\n",
    "        \n",
    "        covinv = -(B -A + C)\n",
    "        \n",
    "        return np.linalg.inv(covinv)\n",
    "    \n",
    "    \n",
    "    def der2(x):\n",
    "        mus, mub = x[0], x[1]\n",
    "        f = mus/(mus+mub)\n",
    "        \n",
    "        p = pdf(x)\n",
    "        \n",
    "        mud, sigd = jac_s(x)\n",
    "        sb        = jac_b(x)\n",
    "\n",
    "        mu2p, musig2p, sig2p = der2_s(x)\n",
    "        \n",
    "        mus2p    =    -2*mub*(fs(x)-fb(x))/(mus+mub)**3\n",
    "        mub2p    =     2*mus*(fs(x)-fb(x))/(mus+mub)**3\n",
    "        musmub2p = (mus-mub)*(fs(x)-fb(x))/(mus+mub)**3\n",
    "        \n",
    "        cs =  mub/(mus+mub)**2\n",
    "        cb = -mus/(mus+mub)**2\n",
    "        \n",
    "        D2 = np.array([[   (mus2p/p).sum(), (musmub2p/p).sum(), -(cs*sb/p).sum(),    cs*(mud/p).sum(),   (cs*sigd/p).sum()],\n",
    "                       [(musmub2p/p).sum(),    (mub2p/p).sum(), -(cb*sb/p).sum(),    cb*(mud/p).sum(),   (cb*sigd/p).sum()],\n",
    "                       [  -cs*(sb/p).sum(),   -cb*(sb/p).sum(),                0,                   0,                   0],\n",
    "                       [  cs*(mud/p).sum(),   cb*(mud/p).sum(),                0,    f*(mu2p/p).sum(), f*(musig2p/p).sum()],\n",
    "                       [ cs*(sigd/p).sum(),  cb*(sigd/p).sum(),                0, f*(musig2p/p).sum(),   f*(sig2p/p).sum()]])\n",
    "        return D2\n",
    "    \n",
    "    def pdf(x):\n",
    "        mus, mub = x[0], x[1]\n",
    "        return mus/(mus+mub)*fs(x) + mub/(mus+mub)*fb(x)\n",
    "    \n",
    "    def fb(x):\n",
    "        s = x[2]\n",
    "        return s*(E-c) + r\n",
    "    \n",
    "    def jac_b(x):\n",
    "        return E-c\n",
    "    \n",
    "    def fs(x):\n",
    "        mu, sig = x[3], x[4]\n",
    "        #A, _ = quad(gauss, a, b, args=(mu, sig))\n",
    "        A = sig*(2*np.pi)**(1/2.)\n",
    "        return (1/A)*gauss(E, mu, sig)\n",
    "    \n",
    "    def jac_s(x):\n",
    "        mu, sig = x[3], x[4]\n",
    "    \n",
    "        muder  = fs(x)*(E-mu)/sig**2\n",
    "        sigder = fs(x)*(-1/sig + (E-mu)**2/sig**3)\n",
    "    \n",
    "        return np.array([muder, sigder])\n",
    "    \n",
    "    \n",
    "    def der2_s(x):\n",
    "        \n",
    "        mu, sig = x[3], x[4]\n",
    "    \n",
    "        muder  = fs(x)*(E-mu)/sig**2\n",
    "        sigder = fs(x)*(-1/sig + (E-mu)**2/sig**3)\n",
    "        \n",
    "        muder2    = muder*(E-mu)/sig**2 + fs(x)*(-1/sig**2)\n",
    "        sigder2   = sigder*(-1/sig + (E-mu)**2/sig**3) + fs(x)*(1/sig**2 -3*(E-mu)**2/sig**4)\n",
    "        musigder2 =  muder*(-1/sig + (E-mu)**2/sig**3) + fs(x)*(-2*(E-mu)/sig**3)\n",
    "        \n",
    "        return np.array([muder2, musigder2, sigder2])\n",
    "    \n",
    "\n",
    "    def gauss(E, mu, sig):\n",
    "        return np.e**(-(E-mu)**2/(2*sig**2))\n",
    "\n",
    "    return ll, cov"
   ]
  },
  {
   "cell_type": "code",
   "execution_count": 72,
   "metadata": {
    "scrolled": false
   },
   "outputs": [
    {
     "name": "stdout",
     "output_type": "stream",
     "text": [
      "Optimization terminated successfully.\n",
      "         Current function value: 14527.551153\n",
      "         Iterations: 8\n",
      "         Function evaluations: 842\n"
     ]
    },
    {
     "name": "stderr",
     "output_type": "stream",
     "text": [
      "/home/gonzalo/anaconda3/envs/IC-3.7-2018-10-20/lib/python3.7/site-packages/ipykernel_launcher.py:11: RuntimeWarning: invalid value encountered in less\n",
      "  # This is added back by InteractiveShellApp.init_path()\n"
     ]
    }
   ],
   "source": [
    "a, b = 380e3, 430e3\n",
    "slim = 2/(b-a)**2\n",
    "\n",
    "mus, mub, s, mu, sig = 700, 300, -slim/2., 400e3, 3e3\n",
    "\n",
    "E = photopeak(a=a, b=b).rvs(mus=mus, mub=mub, mu=mu, sig=sig, s=s)\n",
    "ll, cov = ll_func(E, [a, b])\n",
    "\n",
    "x0 = np.array([len(E), len(E), 0, np.mean(E), np.std(E)])\n",
    "\n",
    "res = minimize(ll, x0, method='powell',\n",
    "                   options={'disp':True, 'maxiter':10})"
   ]
  },
  {
   "cell_type": "code",
   "execution_count": 73,
   "metadata": {},
   "outputs": [
    {
     "data": {
      "image/png": "[encoded data removed]",
      "text/plain": [
       "<Figure size 432x288 with 1 Axes>"
      ]
     },
     "metadata": {
      "needs_background": "light"
     },
     "output_type": "display_data"
    }
   ],
   "source": [
    "es = np.linspace(a, b, 1000)\n",
    "\n",
    "plt.hist(E, 100, density=True);\n",
    "plt.plot(es, photopeak(a=a, b=b).pdf(es, mus=mus, mub=mub, mu=mu, sig=sig, s=s), c='green');\n",
    "mus, mub, s, mu, sig = res.x\n",
    "plt.plot(es, photopeak(a=a, b=b).pdf(es, mus=mus, mub=mub, mu=mu, sig=sig, s=s), c='r');"
   ]
  },
  {
   "cell_type": "code",
   "execution_count": 70,
   "metadata": {},
   "outputs": [
    {
     "data": {
      "text/plain": [
       "array([ 7.03616119e+02,  2.96382319e+02, -5.21210735e-10,  4.00039414e+05,\n",
       "        3.14340224e+03])"
      ]
     },
     "execution_count": 70,
     "metadata": {},
     "output_type": "execute_result"
    }
   ],
   "source": [
    "res.x"
   ]
  },
  {
   "cell_type": "code",
   "execution_count": 71,
   "metadata": {},
   "outputs": [
    {
     "data": {
      "text/plain": [
       "array([  1000.        ,   1000.        ,      0.        , 399895.20752782,\n",
       "         7791.76503375])"
      ]
     },
     "execution_count": 71,
     "metadata": {},
     "output_type": "execute_result"
    }
   ],
   "source": [
    "x0"
   ]
  },
  {
   "cell_type": "code",
   "execution_count": null,
   "metadata": {},
   "outputs": [],
   "source": []
  },
  {
   "cell_type": "markdown",
   "metadata": {},
   "source": [
    "## Probing covariance matrix consistency"
   ]
  },
  {
   "cell_type": "code",
   "execution_count": 54,
   "metadata": {
    "scrolled": true
   },
   "outputs": [
    {
     "name": "stdout",
     "output_type": "stream",
     "text": [
      "Optimization terminated successfully.\n",
      "         Current function value: 14309.523006\n",
      "         Iterations: 11\n",
      "         Function evaluations: 1203\n",
      "\n",
      "Real values: 702.8977306801164 286.1007454278007 -5.524188672547808e-10 400135.31165073055 2938.3836921917823\n"
     ]
    }
   ],
   "source": [
    "a, b = 380e3, 430e3\n",
    "slim = 2/(b-a)**2\n",
    "\n",
    "mus, mub, s, mu, sig = 700, 300, -slim/2., 400e3, 3e3\n",
    "\n",
    "musp = stats.poisson.rvs(mu=mus)\n",
    "mubp = stats.poisson.rvs(mu=mub)\n",
    "E = photopeak(a=a, b=b).rvs(mus=musp, mub=mubp, mu=mu, sig=sig, s=s)\n",
    "ll, cov = ll_func(E, [a, b])\n",
    "\n",
    "x0 = np.array([len(E), len(E), 0, np.mean(E), np.std(E)])\n",
    "\n",
    "res = minimize(ll, x0, method='powell',\n",
    "                   options={'disp':True, 'maxiter':1e3})\n",
    "\n",
    "mus, mub, s, mu, sig =res.x\n",
    "print()\n",
    "print('Real values:', mus, mub, s, mu, sig)"
   ]
  },
  {
   "cell_type": "code",
   "execution_count": 17,
   "metadata": {
    "scrolled": true
   },
   "outputs": [
    {
     "name": "stderr",
     "output_type": "stream",
     "text": [
      "/home/gonzalo/anaconda3/envs/IC-3.7-2018-10-20/lib/python3.7/site-packages/ipykernel_launcher.py:11: RuntimeWarning: invalid value encountered in less\n",
      "  # This is added back by InteractiveShellApp.init_path()\n",
      "/home/gonzalo/anaconda3/envs/IC-3.7-2018-10-20/lib/python3.7/site-packages/scipy/optimize/optimize.py:1929: RuntimeWarning: invalid value encountered in double_scalars\n",
      "  tmp2 = 2.0 * (tmp2 - tmp1)\n",
      "/home/gonzalo/anaconda3/envs/IC-3.7-2018-10-20/lib/python3.7/site-packages/scipy/optimize/optimize.py:2308: RuntimeWarning: invalid value encountered in double_scalars\n",
      "  w = xb - ((xb - xc) * tmp2 - (xb - xa) * tmp1) / denom\n"
     ]
    }
   ],
   "source": [
    "df = pd.DataFrame(columns=['mus', 'mub', 's', 'mu', 'sig'])\n",
    "\n",
    "i=0\n",
    "n=1e3 #number of experiments\n",
    "while i<n:\n",
    "    musp = stats.poisson.rvs(mu=mus)\n",
    "    mubp = stats.poisson.rvs(mu=mub)\n",
    "    E = photopeak(a=a, b=b).rvs(mus=musp, mub=mubp, mu=mu, sig=sig, s=s)\n",
    "    ll, _ = ll_func(E, [a, b])\n",
    "\n",
    "    x0 = np.array([len(E), len(E), 0, np.mean(E), np.std(E)])\n",
    "    \n",
    "    res = minimize(ll, x0, method='powell',\n",
    "                       options={'disp':False})\n",
    "    x =res.x\n",
    "    df = df.append({'mus':x[0], 'mub':x[1], 's':x[2], 'mu':x[3], 'sig':x[4]}, ignore_index=True)\n",
    "    i+=1"
   ]
  },
  {
   "cell_type": "code",
   "execution_count": 18,
   "metadata": {},
   "outputs": [
    {
     "data": {
      "text/html": [
       "<div>\n",
       "<style scoped>\n",
       "    .dataframe tbody tr th:only-of-type {\n",
       "        vertical-align: middle;\n",
       "    }\n",
       "\n",
       "    .dataframe tbody tr th {\n",
       "        vertical-align: top;\n",
       "    }\n",
       "\n",
       "    .dataframe thead th {\n",
       "        text-align: right;\n",
       "    }\n",
       "</style>\n",
       "<table border=\"1\" class=\"dataframe\">\n",
       "  <thead>\n",
       "    <tr style=\"text-align: right;\">\n",
       "      <th></th>\n",
       "      <th>mus</th>\n",
       "      <th>mub</th>\n",
       "      <th>s</th>\n",
       "      <th>mu</th>\n",
       "      <th>sig</th>\n",
       "    </tr>\n",
       "  </thead>\n",
       "  <tbody>\n",
       "    <tr>\n",
       "      <th>mus</th>\n",
       "      <td>1.301691e+04</td>\n",
       "      <td>-1.232330e+04</td>\n",
       "      <td>6.831983e-09</td>\n",
       "      <td>1.244941e+04</td>\n",
       "      <td>4.719848e+04</td>\n",
       "    </tr>\n",
       "    <tr>\n",
       "      <th>mub</th>\n",
       "      <td>-1.232330e+04</td>\n",
       "      <td>1.258809e+04</td>\n",
       "      <td>-6.884214e-09</td>\n",
       "      <td>-1.238281e+04</td>\n",
       "      <td>-4.698121e+04</td>\n",
       "    </tr>\n",
       "    <tr>\n",
       "      <th>s</th>\n",
       "      <td>6.831983e-09</td>\n",
       "      <td>-6.884214e-09</td>\n",
       "      <td>1.034448e-20</td>\n",
       "      <td>5.801008e-09</td>\n",
       "      <td>2.624970e-08</td>\n",
       "    </tr>\n",
       "    <tr>\n",
       "      <th>mu</th>\n",
       "      <td>1.244941e+04</td>\n",
       "      <td>-1.238281e+04</td>\n",
       "      <td>5.801008e-09</td>\n",
       "      <td>5.054198e+04</td>\n",
       "      <td>4.584867e+04</td>\n",
       "    </tr>\n",
       "    <tr>\n",
       "      <th>sig</th>\n",
       "      <td>4.719848e+04</td>\n",
       "      <td>-4.698121e+04</td>\n",
       "      <td>2.624970e-08</td>\n",
       "      <td>4.584867e+04</td>\n",
       "      <td>1.898374e+05</td>\n",
       "    </tr>\n",
       "  </tbody>\n",
       "</table>\n",
       "</div>"
      ],
      "text/plain": [
       "              mus           mub             s            mu           sig\n",
       "mus  1.301691e+04 -1.232330e+04  6.831983e-09  1.244941e+04  4.719848e+04\n",
       "mub -1.232330e+04  1.258809e+04 -6.884214e-09 -1.238281e+04 -4.698121e+04\n",
       "s    6.831983e-09 -6.884214e-09  1.034448e-20  5.801008e-09  2.624970e-08\n",
       "mu   1.244941e+04 -1.238281e+04  5.801008e-09  5.054198e+04  4.584867e+04\n",
       "sig  4.719848e+04 -4.698121e+04  2.624970e-08  4.584867e+04  1.898374e+05"
      ]
     },
     "execution_count": 18,
     "metadata": {},
     "output_type": "execute_result"
    }
   ],
   "source": [
    "df.cov()"
   ]
  },
  {
   "cell_type": "code",
   "execution_count": 19,
   "metadata": {
    "scrolled": true
   },
   "outputs": [
    {
     "data": {
      "text/plain": [
       "array([[ 8.64949274e+02, -1.70420669e+02,  2.52141311e-10,\n",
       "        -1.32539611e+02,  6.58202755e+02],\n",
       "       [-1.70420669e+02,  4.41877210e+02, -2.53866012e-10,\n",
       "         1.33446210e+02, -6.62705003e+02],\n",
       "       [ 2.52141311e-10, -2.53866012e-10,  6.61165597e-21,\n",
       "        -9.35086249e-10,  9.73381155e-10],\n",
       "       [-1.32539611e+02,  1.33446210e+02, -9.35086249e-10,\n",
       "         1.65792219e+04, -8.03941068e+02],\n",
       "       [ 6.58202755e+02, -6.62705003e+02,  9.73381155e-10,\n",
       "        -8.03941068e+02,  1.16915695e+04]])"
      ]
     },
     "execution_count": 19,
     "metadata": {},
     "output_type": "execute_result"
    }
   ],
   "source": [
    "cov([mus, mub, s, mu, sig])"
   ]
  },
  {
   "cell_type": "code",
   "execution_count": 20,
   "metadata": {},
   "outputs": [
    {
     "data": {
      "text/html": [
       "<div>\n",
       "<style scoped>\n",
       "    .dataframe tbody tr th:only-of-type {\n",
       "        vertical-align: middle;\n",
       "    }\n",
       "\n",
       "    .dataframe tbody tr th {\n",
       "        vertical-align: top;\n",
       "    }\n",
       "\n",
       "    .dataframe thead th {\n",
       "        text-align: right;\n",
       "    }\n",
       "</style>\n",
       "<table border=\"1\" class=\"dataframe\">\n",
       "  <thead>\n",
       "    <tr style=\"text-align: right;\">\n",
       "      <th></th>\n",
       "      <th>mus</th>\n",
       "      <th>mub</th>\n",
       "      <th>s</th>\n",
       "      <th>mu</th>\n",
       "      <th>sig</th>\n",
       "    </tr>\n",
       "  </thead>\n",
       "  <tbody>\n",
       "    <tr>\n",
       "      <th>mus</th>\n",
       "      <td>8.496399e+02</td>\n",
       "      <td>-1.847354e+02</td>\n",
       "      <td>2.174512e-10</td>\n",
       "      <td>-7.254233e+01</td>\n",
       "      <td>6.510036e+02</td>\n",
       "    </tr>\n",
       "    <tr>\n",
       "      <th>mub</th>\n",
       "      <td>-1.847354e+02</td>\n",
       "      <td>4.724437e+02</td>\n",
       "      <td>-2.956452e-10</td>\n",
       "      <td>3.033654e+02</td>\n",
       "      <td>-6.365129e+02</td>\n",
       "    </tr>\n",
       "    <tr>\n",
       "      <th>s</th>\n",
       "      <td>2.174512e-10</td>\n",
       "      <td>-2.956452e-10</td>\n",
       "      <td>6.918146e-21</td>\n",
       "      <td>-9.252170e-10</td>\n",
       "      <td>9.871823e-10</td>\n",
       "    </tr>\n",
       "    <tr>\n",
       "      <th>mu</th>\n",
       "      <td>-7.254233e+01</td>\n",
       "      <td>3.033654e+02</td>\n",
       "      <td>-9.252170e-10</td>\n",
       "      <td>1.769187e+04</td>\n",
       "      <td>-7.977888e+02</td>\n",
       "    </tr>\n",
       "    <tr>\n",
       "      <th>sig</th>\n",
       "      <td>6.510036e+02</td>\n",
       "      <td>-6.365129e+02</td>\n",
       "      <td>9.871823e-10</td>\n",
       "      <td>-7.977888e+02</td>\n",
       "      <td>1.194834e+04</td>\n",
       "    </tr>\n",
       "  </tbody>\n",
       "</table>\n",
       "</div>"
      ],
      "text/plain": [
       "              mus           mub             s            mu           sig\n",
       "mus  8.496399e+02 -1.847354e+02  2.174512e-10 -7.254233e+01  6.510036e+02\n",
       "mub -1.847354e+02  4.724437e+02 -2.956452e-10  3.033654e+02 -6.365129e+02\n",
       "s    2.174512e-10 -2.956452e-10  6.918146e-21 -9.252170e-10  9.871823e-10\n",
       "mu  -7.254233e+01  3.033654e+02 -9.252170e-10  1.769187e+04 -7.977888e+02\n",
       "sig  6.510036e+02 -6.365129e+02  9.871823e-10 -7.977888e+02  1.194834e+04"
      ]
     },
     "execution_count": 20,
     "metadata": {},
     "output_type": "execute_result"
    }
   ],
   "source": [
    "df[(df['mus']>4e2)&(df['mus']<1e3)].cov()"
   ]
  },
  {
   "cell_type": "code",
   "execution_count": null,
   "metadata": {},
   "outputs": [],
   "source": []
  },
  {
   "cell_type": "code",
   "execution_count": null,
   "metadata": {},
   "outputs": [],
   "source": []
  },
  {
   "cell_type": "code",
   "execution_count": null,
   "metadata": {},
   "outputs": [],
   "source": []
  },
  {
   "cell_type": "code",
   "execution_count": 21,
   "metadata": {},
   "outputs": [],
   "source": [
    "covar = cov([mus, mub, s, mu, sig])\n",
    "#covar = df[(df['mus']>1e2)&(df['mus']<1e3)].cov()"
   ]
  },
  {
   "cell_type": "code",
   "execution_count": 22,
   "metadata": {},
   "outputs": [],
   "source": [
    "vals = df[(df['mus']>1e2)&(df['mus']<1e3)]\n",
    "\n",
    "smus = covar[0,0]\n",
    "#smus = covar['mus']['mus']\n",
    "smub = covar[1,1]\n",
    "#smub = covar['mub']['mub']\n",
    "ss   = covar[2,2]\n",
    "smu  = covar[3,3]\n",
    "ssig = covar[4,4]"
   ]
  },
  {
   "cell_type": "code",
   "execution_count": null,
   "metadata": {},
   "outputs": [],
   "source": []
  },
  {
   "cell_type": "code",
   "execution_count": 23,
   "metadata": {},
   "outputs": [
    {
     "data": {
      "image/png": "[encoded data removed]",
      "text/plain": [
       "<Figure size 432x288 with 1 Axes>"
      ]
     },
     "metadata": {
      "needs_background": "light"
     },
     "output_type": "display_data"
    }
   ],
   "source": [
    "r = (mus-vals['mus'])/smus**0.5\n",
    "\n",
    "loc, scale = stats.norm.fit(r)\n",
    "\n",
    "plt.hist(r, 100, density=True);\n",
    "x=np.linspace(-2.5, 2.5, 1000);\n",
    "plt.plot(x, stats.norm.pdf(x,loc, scale), c='r');\n",
    "\n",
    "plt.text(-2.5, 0.5, f'mean:{round(loc,5)} \\n var:{round(scale,5)}');"
   ]
  },
  {
   "cell_type": "code",
   "execution_count": 24,
   "metadata": {},
   "outputs": [
    {
     "data": {
      "image/png": "[encoded data removed]",
      "text/plain": [
       "<Figure size 432x288 with 1 Axes>"
      ]
     },
     "metadata": {
      "needs_background": "light"
     },
     "output_type": "display_data"
    }
   ],
   "source": [
    "r = (mub-vals['mub'])/smub**0.5\n",
    "\n",
    "loc, scale = stats.norm.fit(r)\n",
    "\n",
    "plt.hist(r, 100, density=True);\n",
    "x=np.linspace(-2.5, 2.5, 1000);\n",
    "plt.plot(x, stats.norm.pdf(x,loc, scale), c='r');\n",
    "\n",
    "plt.text(-2.5, 0.5, f'mean:{round(loc,5)} \\n var:{round(scale,5)}');"
   ]
  },
  {
   "cell_type": "code",
   "execution_count": 25,
   "metadata": {},
   "outputs": [
    {
     "data": {
      "image/png": "[encoded data removed]",
      "text/plain": [
       "<Figure size 432x288 with 1 Axes>"
      ]
     },
     "metadata": {
      "needs_background": "light"
     },
     "output_type": "display_data"
    }
   ],
   "source": [
    "r = (s-vals['s'])/ss**0.5\n",
    "\n",
    "loc, scale = stats.norm.fit(r)\n",
    "\n",
    "plt.hist(r, 100, density=True);\n",
    "x=np.linspace(-2.5, 2.5, 1000);\n",
    "plt.plot(x, stats.norm.pdf(x,loc, scale), c='r');\n",
    "\n",
    "plt.text(-2.5, 0.4, f'mean:{round(loc,5)} \\n var:{round(scale,5)}');"
   ]
  },
  {
   "cell_type": "code",
   "execution_count": 26,
   "metadata": {},
   "outputs": [
    {
     "data": {
      "image/png": "[encoded data removed]",
      "text/plain": [
       "<Figure size 432x288 with 1 Axes>"
      ]
     },
     "metadata": {
      "needs_background": "light"
     },
     "output_type": "display_data"
    }
   ],
   "source": [
    "r = (mu-vals['mu'])/smu**0.5\n",
    "\n",
    "loc, scale = stats.norm.fit(r)\n",
    "\n",
    "plt.hist(r, 100, density=True);\n",
    "x=np.linspace(-2.5, 2.5, 1000);\n",
    "plt.plot(x, stats.norm.pdf(x,loc, scale), c='r');\n",
    "\n",
    "plt.text(-2.5, 0.4, f'mean:{round(loc,5)} \\n var:{round(scale,5)}');"
   ]
  },
  {
   "cell_type": "code",
   "execution_count": 27,
   "metadata": {},
   "outputs": [
    {
     "data": {
      "image/png": "[encoded data removed]",
      "text/plain": [
       "<Figure size 432x288 with 1 Axes>"
      ]
     },
     "metadata": {
      "needs_background": "light"
     },
     "output_type": "display_data"
    }
   ],
   "source": [
    "r = (sig-vals['sig'])/ssig**0.5\n",
    "\n",
    "loc, scale = stats.norm.fit(r)\n",
    "\n",
    "plt.hist(r, 100, density=True);\n",
    "x=np.linspace(-2.5, 2.5, 1000);\n",
    "plt.plot(x, stats.norm.pdf(x,loc, scale), c='r');\n",
    "\n",
    "plt.text(-2.5, 0.4, f'mean:{round(loc,5)} \\n var:{round(scale,5)}');"
   ]
  },
  {
   "cell_type": "code",
   "execution_count": null,
   "metadata": {},
   "outputs": [],
   "source": []
  },
  {
   "cell_type": "code",
   "execution_count": null,
   "metadata": {},
   "outputs": [],
   "source": []
  },
  {
   "cell_type": "code",
   "execution_count": null,
   "metadata": {},
   "outputs": [],
   "source": []
  },
  {
   "cell_type": "code",
   "execution_count": 28,
   "metadata": {},
   "outputs": [],
   "source": [
    "#comprobation\n",
    "nus = 2\n",
    "nub = 5\n",
    "\n",
    "ns = stats.poisson.rvs(mu=nus, size=int(1e3))\n",
    "nb = stats.poisson.rvs(mu=nub, size=int(1e3))\n",
    "\n",
    "n=ns+nb"
   ]
  },
  {
   "cell_type": "code",
   "execution_count": 29,
   "metadata": {},
   "outputs": [
    {
     "data": {
      "image/png": "[encoded data removed]",
      "text/plain": [
       "<Figure size 432x288 with 1 Axes>"
      ]
     },
     "metadata": {
      "needs_background": "light"
     },
     "output_type": "display_data"
    }
   ],
   "source": [
    "plt.hist(n, bins=100);\n",
    "x = range(0,16)\n",
    "plt.plot(x, 1e3*stats.poisson.pmf(mu=nus+nub, k=x), c='r');"
   ]
  },
  {
   "cell_type": "code",
   "execution_count": null,
   "metadata": {},
   "outputs": [],
   "source": []
  },
  {
   "cell_type": "code",
   "execution_count": null,
   "metadata": {},
   "outputs": [],
   "source": []
  },
  {
   "cell_type": "code",
   "execution_count": null,
   "metadata": {},
   "outputs": [],
   "source": []
  }
 ],
 "metadata": {
  "kernelspec": {
   "display_name": "Python 3",
   "language": "python",
   "name": "python3"
  },
  "language_info": {
   "codemirror_mode": {
    "name": "ipython",
    "version": 3
   },
   "file_extension": ".py",
   "mimetype": "text/x-python",
   "name": "python",
   "nbconvert_exporter": "python",
   "pygments_lexer": "ipython3",
   "version": "3.7.0"
  }
 },
 "nbformat": 4,
 "nbformat_minor": 2
}
