{
 "cells": [
  {
   "cell_type": "code",
   "execution_count": 1,
   "metadata": {},
   "outputs": [],
   "source": [
    "import glob\n",
    "import numpy             as np\n",
    "import pandas            as pd\n",
    "import tables            as tb\n",
    "import matplotlib.pyplot as plt\n",
    "\n",
    "from invisible_cities.io.pmaps_io import load_pmaps_as_df\n",
    "\n",
    "to_df = pd.DataFrame.from_records"
   ]
  },
  {
   "cell_type": "code",
   "execution_count": 2,
   "metadata": {},
   "outputs": [],
   "source": [
    "dtype = \"pmaps\"\n",
    "run_number = 7255\n",
    "\n",
    "icversion_datadir  = f\"/Users/gonzalo/Documents/NEXT/ireneProblem/DATA/{run_number}/v0.9.9/\"\n",
    "testprod_datadir   = f\"/Users/gonzalo/Documents/NEXT/ireneProblem/DATA/{run_number}/IC-testprod/\"\n",
    "testprod_p_datadir = f\"/Users/gonzalo/Documents/NEXT/ireneProblem/DATA/{run_number}/IC-testprod-p/\"\n",
    "\n",
    "icversion_files  = glob.glob(icversion_datadir  + f\"*\")\n",
    "testprod_files   = glob.glob(testprod_datadir   + f\"*\")\n",
    "testprod_p_files = glob.glob(testprod_p_datadir + f\"*\")\n",
    "\n",
    "icversion_files .sort()\n",
    "testprod_files  .sort()\n",
    "testprod_p_files.sort()"
   ]
  },
  {
   "cell_type": "code",
   "execution_count": null,
   "metadata": {},
   "outputs": [],
   "source": []
  },
  {
   "cell_type": "code",
   "execution_count": 3,
   "metadata": {},
   "outputs": [
    {
     "name": "stdout",
     "output_type": "stream",
     "text": [
      "EV number: 162\n",
      "MACT: 1\n"
     ]
    },
    {
     "data": {
      "image/png": "[encoded data removed]",
      "text/plain": [
       "<Figure size 432x288 with 1 Axes>"
      ]
     },
     "metadata": {
      "needs_background": "light"
     },
     "output_type": "display_data"
    }
   ],
   "source": [
    "#icversion\n",
    "S1, S2, S2Si, S1PMT, S2PMT =load_pmaps_as_df(icversion_files[0])\n",
    "\n",
    "events = np.unique(S2[\"event\"])\n",
    "\n",
    "i = int(np.random.random()*len(events))\n",
    "\n",
    "ev = events[i]\n",
    "\n",
    "print(\"EV number:\", ev)\n",
    "\n",
    "S2_ev    = S2   [S2[\"event\"]==ev]\n",
    "S2PMT_ev = S2PMT[S2PMT[\"event\"]==ev]\n",
    "\n",
    "times = S2_ev[\"time\"].values/10e3\n",
    "\n",
    "pmts = np.unique(S2PMT_ev[\"npmt\"])[:4]\n",
    "\n",
    "esum = []\n",
    "for pmt in pmts:\n",
    "    enes = S2PMT_ev[S2PMT_ev[\"npmt\"]==pmt][\"ene\"]\n",
    "    esum.append( np.sum(enes[enes>0]) )\n",
    "    plt.scatter(times, S2PMT_ev[S2PMT_ev[\"npmt\"]==pmt][\"ene\"], label = f\"{pmt}\")\n",
    "plt.legend()\n",
    "\n",
    "print(\"MACT:\", pmts[np.argmax(esum)])"
   ]
  },
  {
   "cell_type": "code",
   "execution_count": 4,
   "metadata": {},
   "outputs": [
    {
     "name": "stdout",
     "output_type": "stream",
     "text": [
      "EV number: 133\n",
      "MACT: 1\n"
     ]
    },
    {
     "data": {
      "image/png": "[encoded data removed]",
      "text/plain": [
       "<Figure size 432x288 with 1 Axes>"
      ]
     },
     "metadata": {
      "needs_background": "light"
     },
     "output_type": "display_data"
    }
   ],
   "source": [
    "#testprod\n",
    "S1, S2, S2Si, S1PMT, S2PMT =load_pmaps_as_df(testprod_p_files[0])\n",
    "\n",
    "events = np.unique(S2[\"event\"])\n",
    "ev = events[i]\n",
    "\n",
    "print(\"EV number:\", ev)\n",
    "\n",
    "S2_ev    = S2   [S2[\"event\"]==ev]\n",
    "S2PMT_ev = S2PMT[S2PMT[\"event\"]==ev]\n",
    "\n",
    "times = S2_ev[\"time\"].values/10e3\n",
    "\n",
    "pmts = np.unique(S2PMT_ev[\"npmt\"])[:4]\n",
    "\n",
    "esum = []\n",
    "for pmt in pmts:\n",
    "    enes = S2PMT_ev[S2PMT_ev[\"npmt\"]==pmt][\"ene\"]\n",
    "    esum.append( np.sum(enes[enes>0]) )\n",
    "    \n",
    "    plt.scatter(times, S2PMT_ev[S2PMT_ev[\"npmt\"]==pmt][\"ene\"], label = f\"{pmt}\")\n",
    "plt.legend()\n",
    "\n",
    "print(\"MACT:\", pmts[np.argmax(esum)])"
   ]
  },
  {
   "cell_type": "code",
   "execution_count": null,
   "metadata": {},
   "outputs": [],
   "source": []
  },
  {
   "cell_type": "code",
   "execution_count": 22,
   "metadata": {},
   "outputs": [],
   "source": [
    "## energy spectra trigger2\n",
    "import glob\n",
    "datadir = \"/Users/gonzalo/Documents/NEXT/ireneProblem/DATA/7255/v0.9.9/\"\n",
    "files   = glob.glob(datadir+\"*\")\n",
    "files.sort()"
   ]
  },
  {
   "cell_type": "code",
   "execution_count": 24,
   "metadata": {},
   "outputs": [
    {
     "data": {
      "text/plain": [
       "957"
      ]
     },
     "execution_count": 24,
     "metadata": {},
     "output_type": "execute_result"
    }
   ],
   "source": [
    "len(files)"
   ]
  },
  {
   "cell_type": "code",
   "execution_count": 25,
   "metadata": {},
   "outputs": [
    {
     "name": "stderr",
     "output_type": "stream",
     "text": [
      "/Users/gonzalo/miniconda/envs/IC-3.7-2018-11-14/lib/python3.7/site-packages/ipykernel_launcher.py:14: UserWarning: Boolean Series key will be reindexed to match DataFrame index.\n",
      "  \n"
     ]
    }
   ],
   "source": [
    "E = []\n",
    "\n",
    "for file in files:\n",
    "    _, S2, _, _, _ = load_pmaps_as_df(file)\n",
    "    \n",
    "    events = np.unique(S2[\"event\"])\n",
    "    for ev in events:\n",
    "        S2_ev = S2[S2[\"event\"]==ev]\n",
    "        \n",
    "        peaks = np.unique(S2_ev[\"peak\"])\n",
    "        \n",
    "        for pk in peaks:\n",
    "            S2_ev_pk = S2_ev[S2[\"peak\"]==pk]\n",
    "            \n",
    "            E. append( np.sum(S2_ev_pk[\"ene\"]) )\n",
    "            "
   ]
  },
  {
   "cell_type": "code",
   "execution_count": null,
   "metadata": {},
   "outputs": [],
   "source": []
  },
  {
   "cell_type": "code",
   "execution_count": 39,
   "metadata": {},
   "outputs": [],
   "source": [
    "from histogram_functions import *"
   ]
  },
  {
   "cell_type": "code",
   "execution_count": 59,
   "metadata": {},
   "outputs": [
    {
     "data": {
      "image/png": "[encoded data removed]",
      "text/plain": [
       "<Figure size 720x360 with 1 Axes>"
      ]
     },
     "metadata": {
      "needs_background": "light"
     },
     "output_type": "display_data"
    }
   ],
   "source": [
    "histo1D(np.array(E), \n",
    "        bins= 1000,\n",
    "        scale=\"log\",\n",
    "        xlims=[None, 1e6])"
   ]
  },
  {
   "cell_type": "code",
   "execution_count": null,
   "metadata": {},
   "outputs": [],
   "source": []
  }
 ],
 "metadata": {
  "kernelspec": {
   "display_name": "Python 3",
   "language": "python",
   "name": "python3"
  },
  "language_info": {
   "codemirror_mode": {
    "name": "ipython",
    "version": 3
   },
   "file_extension": ".py",
   "mimetype": "text/x-python",
   "name": "python",
   "nbconvert_exporter": "python",
   "pygments_lexer": "ipython3",
   "version": "3.7.3"
  }
 },
 "nbformat": 4,
 "nbformat_minor": 2
}
