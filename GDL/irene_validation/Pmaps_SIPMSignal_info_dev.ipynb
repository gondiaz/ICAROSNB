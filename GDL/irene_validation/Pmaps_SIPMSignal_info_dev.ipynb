{
 "cells": [
  {
   "cell_type": "code",
   "execution_count": 1,
   "metadata": {},
   "outputs": [],
   "source": [
    "import glob\n",
    "import numpy             as np\n",
    "import pandas            as pd\n",
    "import tables            as tb\n",
    "import matplotlib.pyplot as plt\n",
    "\n",
    "from invisible_cities.io.pmaps_io import load_pmaps_as_df\n",
    "\n",
    "to_df = pd.DataFrame.from_records"
   ]
  },
  {
   "cell_type": "code",
   "execution_count": 2,
   "metadata": {},
   "outputs": [],
   "source": [
    "dtype = \"pmaps\"\n",
    "run_number = 7255\n",
    "\n",
    "icversion_datadir   = f\"/Users/gonzalo/Documents/NEXT/ireneProblem/DATA/{run_number}/v0.9.9/\"\n",
    "testprod_datadir   = f\"/Users/gonzalo/Documents/NEXT/ireneProblem/DATA/{run_number}/IC-testprod/\"\n",
    "testprod_p_datadir = f\"/Users/gonzalo/Documents/NEXT/ireneProblem/DATA/{run_number}/IC-testprod-p/\"\n",
    "\n",
    "icversion_files  = glob.glob(icversion_datadir  + f\"*\")\n",
    "testprod_files   = glob.glob(testprod_datadir   + f\"*\")\n",
    "testprod_p_files = glob.glob(testprod_p_datadir + f\"*\")\n",
    "\n",
    "icversion_files .sort()\n",
    "testprod_files  .sort()\n",
    "testprod_p_files.sort()"
   ]
  },
  {
   "cell_type": "code",
   "execution_count": null,
   "metadata": {},
   "outputs": [],
   "source": []
  },
  {
   "cell_type": "code",
   "execution_count": 3,
   "metadata": {},
   "outputs": [],
   "source": [
    "_, S2, S2Si, _, _ = load_pmaps_as_df(icversion_files[0])"
   ]
  },
  {
   "cell_type": "code",
   "execution_count": null,
   "metadata": {},
   "outputs": [],
   "source": [
    "# for each event\n",
    "# for each S2 (peak)\n",
    "\n",
    "# total charge\n",
    "# number of SiPMs touched\n",
    "\n",
    "# charge per slide"
   ]
  },
  {
   "cell_type": "code",
   "execution_count": 4,
   "metadata": {},
   "outputs": [],
   "source": [
    "S2 = S2Si[(S2Si[\"event\"]==1)&(S2Si[\"peak\"]==0)]"
   ]
  },
  {
   "cell_type": "code",
   "execution_count": null,
   "metadata": {},
   "outputs": [],
   "source": []
  },
  {
   "cell_type": "code",
   "execution_count": 19,
   "metadata": {},
   "outputs": [],
   "source": [
    "def Pmaps_SiSignal_info(pmapdir, npmaps, outfilename):\n",
    "    \n",
    "    Q, n_si = [], []\n",
    "    Q_per_slide = []\n",
    "    \n",
    "    evts = []\n",
    "    \n",
    "    FILES = glob.glob(pmapdir + \"/*\")\n",
    "    FILES.sort()\n",
    "    FILES = FILES[:npmaps]\n",
    "    \n",
    "    for pmap in FILES:\n",
    "        \n",
    "        _, S2pmap, S2Sipmap, _, _ = load_pmaps_as_df(pmap)\n",
    "        \n",
    "        EVENTS = np.unique(S2pmap[\"event\"].values)\n",
    "        \n",
    "        #loop in events\n",
    "        for ev in EVENTS:\n",
    "            S2   = S2pmap  [S2pmap  [\"event\"]==ev]\n",
    "            S2Si = S2Sipmap[S2Sipmap[\"event\"]==ev]\n",
    "            \n",
    "            #loop in peaks\n",
    "            PEAKS = np.unique(S2Si[\"peak\"])\n",
    "            for pk in PEAKS:\n",
    "                S2Si_pk = S2Si [ S2Si[\"peak\"] == pk ]\n",
    "                \n",
    "                #print(ev, pk, len(S2Si_pk))\n",
    "                \n",
    "                #total change and number of sipms\n",
    "                Q   .append(        np.sum(S2Si_pk[\"ene\"]) )\n",
    "                n_si.append( len(np.unique(S2Si_pk[\"nsipm\"])) )\n",
    "                evts.append( ev )\n",
    "                \n",
    "                nslides = len(S2[S2[\"peak\"]==pk])\n",
    "                sipms    = np.unique(S2Si_pk[\"nsipm\"].values)\n",
    "                \n",
    "                b = S2Si_pk.index[0]\n",
    "                #charge per slide\n",
    "                for sl in range(0, int(nslides)-1):\n",
    "                    q = []\n",
    "                    for si in range(0, len(sipms)):\n",
    "                        sl_si = S2Si_pk[S2Si_pk.index == b + sl + nslides*si]\n",
    "                        q.append( sl_si[\"ene\"].values )\n",
    "                        \n",
    "                    Q_per_slide.append( np.sum(q) )\n",
    "                          \n",
    "    si_df = pd.DataFrame({\n",
    "                'event' : evts,\n",
    "                'charge': Q   ,\n",
    "                'touch' : n_si})\n",
    "                    \n",
    "    qsl_df = pd.DataFrame({\n",
    "                'charge_per_sl': Q_per_slide})\n",
    "    \n",
    "    si_df .to_hdf(outfilename, key='Q')\n",
    "    qsl_df.to_hdf(outfilename, key='sl')"
   ]
  },
  {
   "cell_type": "code",
   "execution_count": null,
   "metadata": {},
   "outputs": [],
   "source": []
  },
  {
   "cell_type": "code",
   "execution_count": null,
   "metadata": {},
   "outputs": [],
   "source": []
  },
  {
   "cell_type": "code",
   "execution_count": null,
   "metadata": {},
   "outputs": [],
   "source": []
  },
  {
   "cell_type": "code",
   "execution_count": null,
   "metadata": {},
   "outputs": [],
   "source": []
  },
  {
   "cell_type": "code",
   "execution_count": 20,
   "metadata": {},
   "outputs": [],
   "source": [
    "pmapdir = icversion_datadir\n",
    "npmaps = 2\n",
    "outfilename = \"./summary_sisignal_icversion.h5\"\n",
    "\n",
    "Pmaps_SiSignal_info(pmapdir, npmaps, outfilename)"
   ]
  },
  {
   "cell_type": "code",
   "execution_count": 21,
   "metadata": {},
   "outputs": [
    {
     "data": {
      "text/html": [
       "<div>\n",
       "<style scoped>\n",
       "    .dataframe tbody tr th:only-of-type {\n",
       "        vertical-align: middle;\n",
       "    }\n",
       "\n",
       "    .dataframe tbody tr th {\n",
       "        vertical-align: top;\n",
       "    }\n",
       "\n",
       "    .dataframe thead th {\n",
       "        text-align: right;\n",
       "    }\n",
       "</style>\n",
       "<table border=\"1\" class=\"dataframe\">\n",
       "  <thead>\n",
       "    <tr style=\"text-align: right;\">\n",
       "      <th></th>\n",
       "      <th>event</th>\n",
       "      <th>charge</th>\n",
       "      <th>touch</th>\n",
       "    </tr>\n",
       "  </thead>\n",
       "  <tbody>\n",
       "    <tr>\n",
       "      <th>0</th>\n",
       "      <td>1</td>\n",
       "      <td>588.712524</td>\n",
       "      <td>21</td>\n",
       "    </tr>\n",
       "    <tr>\n",
       "      <th>1</th>\n",
       "      <td>2</td>\n",
       "      <td>375.908447</td>\n",
       "      <td>18</td>\n",
       "    </tr>\n",
       "    <tr>\n",
       "      <th>2</th>\n",
       "      <td>3</td>\n",
       "      <td>507.163910</td>\n",
       "      <td>19</td>\n",
       "    </tr>\n",
       "    <tr>\n",
       "      <th>3</th>\n",
       "      <td>4</td>\n",
       "      <td>513.749817</td>\n",
       "      <td>17</td>\n",
       "    </tr>\n",
       "    <tr>\n",
       "      <th>4</th>\n",
       "      <td>5</td>\n",
       "      <td>673.763306</td>\n",
       "      <td>21</td>\n",
       "    </tr>\n",
       "  </tbody>\n",
       "</table>\n",
       "</div>"
      ],
      "text/plain": [
       "   event      charge  touch\n",
       "0      1  588.712524     21\n",
       "1      2  375.908447     18\n",
       "2      3  507.163910     19\n",
       "3      4  513.749817     17\n",
       "4      5  673.763306     21"
      ]
     },
     "execution_count": 21,
     "metadata": {},
     "output_type": "execute_result"
    }
   ],
   "source": [
    "pd.read_hdf(outfilename, key=\"Q\").head()"
   ]
  },
  {
   "cell_type": "code",
   "execution_count": 24,
   "metadata": {},
   "outputs": [
    {
     "data": {
      "text/html": [
       "<div>\n",
       "<style scoped>\n",
       "    .dataframe tbody tr th:only-of-type {\n",
       "        vertical-align: middle;\n",
       "    }\n",
       "\n",
       "    .dataframe tbody tr th {\n",
       "        vertical-align: top;\n",
       "    }\n",
       "\n",
       "    .dataframe thead th {\n",
       "        text-align: right;\n",
       "    }\n",
       "</style>\n",
       "<table border=\"1\" class=\"dataframe\">\n",
       "  <thead>\n",
       "    <tr style=\"text-align: right;\">\n",
       "      <th></th>\n",
       "      <th>charge_per_sl</th>\n",
       "    </tr>\n",
       "  </thead>\n",
       "  <tbody>\n",
       "    <tr>\n",
       "      <th>0</th>\n",
       "      <td>1.521070</td>\n",
       "    </tr>\n",
       "    <tr>\n",
       "      <th>1</th>\n",
       "      <td>10.622007</td>\n",
       "    </tr>\n",
       "    <tr>\n",
       "      <th>2</th>\n",
       "      <td>22.775034</td>\n",
       "    </tr>\n",
       "    <tr>\n",
       "      <th>3</th>\n",
       "      <td>39.714458</td>\n",
       "    </tr>\n",
       "    <tr>\n",
       "      <th>4</th>\n",
       "      <td>88.548683</td>\n",
       "    </tr>\n",
       "  </tbody>\n",
       "</table>\n",
       "</div>"
      ],
      "text/plain": [
       "   charge_per_sl\n",
       "0       1.521070\n",
       "1      10.622007\n",
       "2      22.775034\n",
       "3      39.714458\n",
       "4      88.548683"
      ]
     },
     "execution_count": 24,
     "metadata": {},
     "output_type": "execute_result"
    }
   ],
   "source": [
    "pd.read_hdf(outfilename, key=\"sl\").head()"
   ]
  },
  {
   "cell_type": "code",
   "execution_count": null,
   "metadata": {},
   "outputs": [],
   "source": []
  },
  {
   "cell_type": "code",
   "execution_count": null,
   "metadata": {},
   "outputs": [],
   "source": []
  },
  {
   "cell_type": "code",
   "execution_count": null,
   "metadata": {},
   "outputs": [],
   "source": []
  },
  {
   "cell_type": "code",
   "execution_count": null,
   "metadata": {},
   "outputs": [],
   "source": []
  },
  {
   "cell_type": "code",
   "execution_count": null,
   "metadata": {},
   "outputs": [],
   "source": []
  }
 ],
 "metadata": {
  "kernelspec": {
   "display_name": "Python 3",
   "language": "python",
   "name": "python3"
  },
  "language_info": {
   "codemirror_mode": {
    "name": "ipython",
    "version": 3
   },
   "file_extension": ".py",
   "mimetype": "text/x-python",
   "name": "python",
   "nbconvert_exporter": "python",
   "pygments_lexer": "ipython3",
   "version": "3.7.3"
  }
 },
 "nbformat": 4,
 "nbformat_minor": 2
}
