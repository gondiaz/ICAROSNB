{
 "cells": [
  {
   "cell_type": "markdown",
   "metadata": {},
   "source": [
    "# SPECTRA STUDIES"
   ]
  },
  {
   "cell_type": "code",
   "execution_count": 1,
   "metadata": {},
   "outputs": [],
   "source": [
    "import numpy  as np\n",
    "import pandas as pd\n",
    "import matplotlib.pyplot   as plt\n",
    "import matplotlib.gridspec as gridspec\n",
    "\n",
    "import photopeak_fit as pk"
   ]
  },
  {
   "cell_type": "code",
   "execution_count": 2,
   "metadata": {},
   "outputs": [],
   "source": [
    "# Plotting style\n",
    "default_cmap = \"viridis\"\n",
    "figure_size  = 15, 5\n",
    "font_size    = 14\n",
    "\n",
    "plt.rcParams[\"figure.figsize\"]  = figure_size\n",
    "plt.rcParams[  \"font.size\"   ]  = font_size\n",
    "plt.rcParams[  \"image.cmap\"  ]  = default_cmap\n",
    "plt.rcParams[\"axes.facecolor\"]  = 'ghostwhite'\n",
    "plt.rcParams[\"axes.grid\"     ]  = True\n",
    "plt.rcParams[\"grid.color\"    ]  = 'lightgrey'\n",
    "plt.rcParams[\"axes.formatter.limits\"] = -4, 4\n",
    "\n",
    "#plt.style.use(plt.style.available[10])\n",
    "\n",
    "#set number of bins\n",
    "nbins = 1000"
   ]
  },
  {
   "cell_type": "code",
   "execution_count": 3,
   "metadata": {},
   "outputs": [],
   "source": [
    "run = 6482\n",
    "\n",
    "directory = './DATA/'\n",
    "filename  = f'cepks_{run}_0000_11999_6q0min.h5'\n",
    "\n",
    "\n",
    "data = pd.HDFStore(directory + filename)['/esum']"
   ]
  },
  {
   "cell_type": "code",
   "execution_count": 4,
   "metadata": {},
   "outputs": [
    {
     "data": {
      "text/plain": [
       "Index(['event', 'peak', 'location', 'nslices', 'nhits', 'noqslices', 'time',\n",
       "       's1e', 't0', 'rmax', 'rsize', 'zmax', 'zsize', 'x0', 'y0', 'z0', 'e0',\n",
       "       'q0', 'e0h', 'q0h', 'x', 'y', 'z', 'q', 'e', 'eh', 'qh', 'xu', 'yu',\n",
       "       'zu', 'e0f', 'e0b', 'ef', 'eb', 'e1', 'x1', 'y1', 'z1', 'e2', 'x2',\n",
       "       'y2', 'z2', 'eblob1', 'eblob2', 'd12'],\n",
       "      dtype='object')"
      ]
     },
     "execution_count": 4,
     "metadata": {},
     "output_type": "execute_result"
    }
   ],
   "source": [
    "data.keys()"
   ]
  },
  {
   "cell_type": "code",
   "execution_count": 5,
   "metadata": {},
   "outputs": [
    {
     "data": {
      "image/png": "[encoded data removed]",
      "text/plain": [
       "<Figure size 1080x360 with 1 Axes>"
      ]
     },
     "metadata": {
      "needs_background": "light"
     },
     "output_type": "display_data"
    }
   ],
   "source": [
    "E = data[(data['e']<8e5)]['e']\n",
    "\n",
    "fig = plt.figure()\n",
    "ax = fig.add_subplot(111)\n",
    "\n",
    "ax.hist(E, bins=nbins, log=True, alpha=0.5);\n",
    "ax.set_xlabel('Energy (pes)');\n",
    "ax.set_ylabel('Entries');"
   ]
  },
  {
   "cell_type": "markdown",
   "metadata": {},
   "source": [
    "# Th double escape"
   ]
  },
  {
   "cell_type": "code",
   "execution_count": 44,
   "metadata": {},
   "outputs": [],
   "source": [
    "a, b = 4.1e5, 4.45e5\n",
    "\n",
    "thds = data[(a<data['e'])&(data['e']<b)]"
   ]
  },
  {
   "cell_type": "code",
   "execution_count": 45,
   "metadata": {
    "scrolled": true
   },
   "outputs": [],
   "source": [
    "E = thds['e']\n",
    "\n",
    "#fit\n",
    "ll, cov = pk.ll_func(E, [a, b])\n",
    "x0 = np.array([len(E), len(E), 0, np.mean(E), np.std(E)])"
   ]
  },
  {
   "cell_type": "code",
   "execution_count": 46,
   "metadata": {},
   "outputs": [
    {
     "name": "stdout",
     "output_type": "stream",
     "text": [
      "Warning: Maximum number of iterations has been exceeded.\n"
     ]
    }
   ],
   "source": [
    "from scipy.optimize import minimize\n",
    "res = minimize(ll, x0, method='powell',\n",
    "               options={'disp':True, 'maxiter':1e3})"
   ]
  },
  {
   "cell_type": "code",
   "execution_count": 42,
   "metadata": {},
   "outputs": [
    {
     "data": {
      "text/plain": [
       "   direc: array([[1., 0., 0., 0., 0.],\n",
       "       [0., 1., 0., 0., 0.],\n",
       "       [0., 0., 1., 0., 0.],\n",
       "       [0., 0., 0., 1., 0.],\n",
       "       [0., 0., 0., 0., 1.]])\n",
       "     fun: array(inf)\n",
       " message: 'Maximum number of iterations has been exceeded.'\n",
       "    nfev: 6100\n",
       "     nit: 100\n",
       "  status: 2\n",
       " success: False\n",
       "       x: array([4.01679290e+03, 4.01679290e+03, 2.58792896e+02, 4.27264757e+05,\n",
       "       8.24193139e+03])"
      ]
     },
     "execution_count": 42,
     "metadata": {},
     "output_type": "execute_result"
    }
   ],
   "source": [
    "res"
   ]
  },
  {
   "cell_type": "code",
   "execution_count": null,
   "metadata": {},
   "outputs": [],
   "source": []
  },
  {
   "cell_type": "code",
   "execution_count": 43,
   "metadata": {},
   "outputs": [
    {
     "data": {
      "image/png": "[encoded data removed]",
      "text/plain": [
       "<Figure size 1080x360 with 1 Axes>"
      ]
     },
     "metadata": {
      "needs_background": "light"
     },
     "output_type": "display_data"
    }
   ],
   "source": [
    "fig = plt.figure()\n",
    "ax = fig.add_subplot(111)\n",
    "\n",
    "ax.hist(E, bins=int(0.2*nbins), alpha=0.5, density=True);\n",
    "e = np.linspace(a, b, 1000)\n",
    "#ax.plot(e, pk.pkpdf(e, res.x, [a,b]))\n",
    "\n",
    "\n",
    "ax.set_xlabel('Energy (pes)');\n",
    "ax.set_ylabel('Entries');"
   ]
  },
  {
   "cell_type": "code",
   "execution_count": null,
   "metadata": {},
   "outputs": [],
   "source": []
  },
  {
   "cell_type": "code",
   "execution_count": null,
   "metadata": {},
   "outputs": [],
   "source": []
  },
  {
   "cell_type": "code",
   "execution_count": null,
   "metadata": {},
   "outputs": [],
   "source": []
  },
  {
   "cell_type": "code",
   "execution_count": null,
   "metadata": {},
   "outputs": [],
   "source": []
  },
  {
   "cell_type": "code",
   "execution_count": null,
   "metadata": {},
   "outputs": [],
   "source": []
  }
 ],
 "metadata": {
  "kernelspec": {
   "display_name": "Python 3",
   "language": "python",
   "name": "python3"
  },
  "language_info": {
   "codemirror_mode": {
    "name": "ipython",
    "version": 3
   },
   "file_extension": ".py",
   "mimetype": "text/x-python",
   "name": "python",
   "nbconvert_exporter": "python",
   "pygments_lexer": "ipython3",
   "version": "3.7.0"
  }
 },
 "nbformat": 4,
 "nbformat_minor": 2
}
